{
 "cells": [
  {
   "cell_type": "code",
   "id": "initial_id",
   "metadata": {
    "collapsed": true,
    "ExecuteTime": {
     "end_time": "2024-11-13T23:28:47.033858Z",
     "start_time": "2024-11-13T23:28:38.691980Z"
    }
   },
   "source": [
    "from SourceFiles.teproteus import TEProteusAdmin as TepAdmin\n",
    "import matplotlib.pyplot as plt\n",
    "import numpy as np\n",
    "import time\n",
    "\n",
    "# connect and initialize\n",
    "admin = TepAdmin() #required to control PXI module\n",
    "sid = 8 #PXI slot WDS found\n",
    "inst = admin.open_instrument(slot_id=sid)\n",
    "resp = inst.send_scpi_query(\"*IDN?\")\n",
    "print('connected to: ' + resp) # Print *IDN\n",
    "inst.send_scpi_cmd('*CLS; *RST')"
   ],
   "outputs": [
    {
     "name": "stdout",
     "output_type": "stream",
     "text": [
      "Load TEProteus.dll from : C:\\Windows\\system32\\TEProteus.dll\n",
      "connected to: Tabor Electronics,P9484M,000002243278,1.237.0 --slot#: 8,\n"
     ]
    },
    {
     "data": {
      "text/plain": [
       "0"
      ]
     },
     "execution_count": 1,
     "metadata": {},
     "output_type": "execute_result"
    }
   ],
   "execution_count": 1
  },
  {
   "metadata": {
    "ExecuteTime": {
     "end_time": "2024-11-13T23:31:28.682633Z",
     "start_time": "2024-11-13T23:31:28.665876Z"
    }
   },
   "cell_type": "code",
   "source": [
    "#Set rates for DAC\n",
    "sampleRateDAC = 1.125E9\n",
    "#Set CF\n",
    "ncoFreq= 50E6\n",
    "\n",
    "#wavefore parameters\n",
    "max_dac=65535 # Max Dac\n",
    "half_dac=max_dac/2 # DC Level\n",
    "data_type = np.uint16 # DAC data type\n",
    "onLen = 32 * 20 # Pulse on time multiple of 32 or 28ns\n",
    "\n",
    "segTime = onLen / (sampleRateDAC)\n",
    "print('On time')\n",
    "print(segTime)\n",
    "dacWaveOn_I = np.ones(onLen)\n",
    "dacWaveOn_I = dacWaveOn_I * max_dac\n",
    "dacWaveOn_I = dacWaveOn_I.astype(data_type)\n",
    "dacWaveOn_Q = dacWaveOn_I\n",
    "# reshapes for IQIQIQIQIQ....\n",
    "arr_tuple = (dacWaveOn_I, dacWaveOn_Q)\n",
    "dacWaveOn_IQ = np.vstack(arr_tuple).reshape((-1,), order='F')\n",
    "offLen = 32\n",
    "dacWaveOff_I = np.ones(offLen)\n",
    "dacWaveOff_I = dacWaveOff_I * half_dac\n",
    "dacWaveOff_I = dacWaveOff_I.astype(data_type)\n",
    "dacWaveOff_Q = dacWaveOff_I\n",
    "# reshapes for IQIQIQIQIQ....\n",
    "arr_tuple = (dacWaveOff_I, dacWaveOff_Q)\n",
    "dacWaveOff_IQ = np.vstack(arr_tuple).reshape((-1,), order='F')"
   ],
   "id": "4f2938f105a49358",
   "outputs": [
    {
     "name": "stdout",
     "output_type": "stream",
     "text": [
      "On time\n",
      "5.688888888888889e-07\n"
     ]
    }
   ],
   "execution_count": 2
  },
  {
   "metadata": {
    "ExecuteTime": {
     "end_time": "2024-11-13T23:33:59.890631Z",
     "start_time": "2024-11-13T23:33:58.201173Z"
    }
   },
   "cell_type": "code",
   "source": [
    "ch = 1 # everythinf after relates to CH 1\n",
    "cmd = ':INST:CHAN {0}'.format(ch)\n",
    "inst.send_scpi_cmd(cmd)\n",
    "cmd = ':FREQ:RAST {0}'.format(2.5E9) # force to max 16 bit DAC\n",
    "inst.send_scpi_cmd(cmd)\n",
    "inst.send_scpi_cmd(':INIT:CONT OFF')\n",
    "inst.send_scpi_cmd(':TRAC:DEL:ALL')\n",
    "inst.send_scpi_cmd(':TRIG:SOURce:ENAB {}'.format('TRG1'))\n",
    "inst.send_scpi_cmd(':TRIG:SELECT {}'.format('TRG1'))\n",
    "inst.send_scpi_cmd(':TRIG:LEV 0.5')\n",
    "inst.send_scpi_cmd(':TRIG:DEL 0E-9')\n",
    "inst.send_scpi_cmd(':TRIG:SLOP POS')\n",
    "inst.send_scpi_cmd(':TRIG:COUP ON')\n",
    "inst.send_scpi_cmd(':TRIGger:STAT ON')\n",
    "resp = inst.send_scpi_query(':SYST:ERR?')\n",
    "print(\"End of trig Error = \")\n",
    "print(resp)"
   ],
   "id": "2b0d9317b99cdef7",
   "outputs": [
    {
     "name": "stdout",
     "output_type": "stream",
     "text": [
      "End of trig Error = \n",
      "0, no error\n"
     ]
    }
   ],
   "execution_count": 3
  },
  {
   "metadata": {
    "ExecuteTime": {
     "end_time": "2024-11-13T23:34:50.996601Z",
     "start_time": "2024-11-13T23:34:50.960257Z"
    }
   },
   "cell_type": "code",
   "source": [
    "segnum = 1\n",
    "cmd = ':TRAC:DEF {0}, {1}'.format(segnum, len(dacWaveOn_IQ))\n",
    "inst.send_scpi_cmd(cmd)\n",
    "# Select the segment\n",
    "cmd = ':TRAC:SEL {0}'.format(segnum)\n",
    "inst.send_scpi_cmd(cmd)\n",
    "# Increase the timeout before writing binary-data:\n",
    "inst.timeout = 30000\n",
    "# Send the binary-data with *OPC? added to the beginning of its prefix.\n",
    "inst.write_binary_data('*OPC?; :TRAC:DATA', dacWaveOn_IQ)\n",
    "# Set normal timeout\n",
    "inst.timeout = 10000\n",
    "resp = inst.send_scpi_query(':SYST:ERR?')\n",
    "print(\"Trace Download Error = \")\n",
    "print(resp)"
   ],
   "id": "197751b0a5ed1987",
   "outputs": [
    {
     "name": "stdout",
     "output_type": "stream",
     "text": [
      "Trace Download Error = \n",
      "0, no error\n"
     ]
    }
   ],
   "execution_count": 4
  },
  {
   "metadata": {
    "ExecuteTime": {
     "end_time": "2024-11-13T23:35:16.047389Z",
     "start_time": "2024-11-13T23:35:16.027663Z"
    }
   },
   "cell_type": "code",
   "source": [
    "segnum = 2\n",
    "cmd = ':TRAC:DEF {0}, {1}'.format(segnum, len(dacWaveOff_IQ))\n",
    "inst.send_scpi_cmd(cmd)\n",
    "# Select the segment\n",
    "cmd = ':TRAC:SEL {0}'.format(segnum)\n",
    "inst.send_scpi_cmd(cmd)\n",
    "# Increase the timeout before writing binary-data:\n",
    "inst.timeout = 30000\n",
    "# Send the binary-data with *OPC? added to the beginning of its prefix.\n",
    "inst.write_binary_data('*OPC?; :TRAC:DATA', dacWaveOff_IQ)\n",
    "# Set normal timeout\n",
    "inst.timeout = 10000\n",
    "resp = inst.send_scpi_query(':SYST:ERR?')\n",
    "print(\"Trace Download Error = \")\n",
    "print(resp)"
   ],
   "id": "efb69cf0d7752058",
   "outputs": [
    {
     "name": "stdout",
     "output_type": "stream",
     "text": [
      "Trace Download Error = \n",
      "0, no error\n"
     ]
    }
   ],
   "execution_count": 5
  },
  {
   "metadata": {
    "ExecuteTime": {
     "end_time": "2024-11-13T23:43:37.212489Z",
     "start_time": "2024-11-13T23:43:36.072947Z"
    }
   },
   "cell_type": "code",
   "source": [
    "cmd = ':FREQ:RAST {0}'.format(2.5E9)  \n",
    "inst.send_scpi_cmd(cmd)\n",
    "cmd = ':SOUR:MODE DUC'\n",
    "inst.send_scpi_cmd(cmd)\n",
    "cmd = ':SOUR:INT X8'\n",
    "resp = inst.send_scpi_cmd(cmd)\n",
    "cmd = ':SOUR:IQM ONE'\n",
    "resp = inst.send_scpi_cmd(cmd)\n",
    "sampleRateDACInt = sampleRateDAC * 8\n",
    "print('Interpolated Sample Clk Freq {0}'.format(sampleRateDACInt))\n",
    "cmd = ':FREQ:RAST {0}'.format(sampleRateDACInt)\n",
    "resp = inst.send_scpi_cmd(cmd)\n",
    "resp = inst.send_scpi_query(':SYST:ERR?')\n",
    "print(\"IQ Set Error = \")\n",
    "print(resp)\n",
    "cmd = ':SOUR:NCO:CFR1 {0}'.format(ncoFreq)\n",
    "resp = inst.send_scpi_cmd(cmd)"
   ],
   "id": "aa8a18201b839788",
   "outputs": [
    {
     "name": "stdout",
     "output_type": "stream",
     "text": [
      "Interpolated Sample Clk Freq 9000000000.0\n",
      "IQ Set Error = \n",
      "0, no error\n"
     ]
    }
   ],
   "execution_count": 8
  },
  {
   "metadata": {},
   "cell_type": "code",
   "outputs": [],
   "execution_count": null,
   "source": "",
   "id": "da9869320f15192f"
  }
 ],
 "metadata": {
  "kernelspec": {
   "display_name": "Python 3",
   "language": "python",
   "name": "python3"
  },
  "language_info": {
   "codemirror_mode": {
    "name": "ipython",
    "version": 2
   },
   "file_extension": ".py",
   "mimetype": "text/x-python",
   "name": "python",
   "nbconvert_exporter": "python",
   "pygments_lexer": "ipython2",
   "version": "2.7.6"
  }
 },
 "nbformat": 4,
 "nbformat_minor": 5
}
