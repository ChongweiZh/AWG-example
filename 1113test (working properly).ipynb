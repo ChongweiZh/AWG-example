{
 "cells": [
  {
   "metadata": {
    "collapsed": true,
    "ExecuteTime": {
     "end_time": "2024-11-23T06:07:06.281426Z",
     "start_time": "2024-11-23T06:06:50.467028Z"
    }
   },
   "cell_type": "code",
   "source": [
    "\n",
    "from SourceFiles.teproteus import TEProteusAdmin as TepAdmin\n",
    "import matplotlib.pyplot as plt\n",
    "import numpy as np\n",
    "import time\n",
    "################################################################################\n",
    "# connect and initialize\n",
    "admin = TepAdmin() #required to control PXI module\n",
    "sid = 8 #PXI slot WDS found\n",
    "inst = admin.open_instrument(slot_id=sid)\n",
    "resp = inst.send_scpi_query(\"*IDN?\")\n",
    "print('connected to: ' + resp) # Print *IDN\n",
    "inst.send_scpi_cmd('*CLS; *RST')\n",
    "\n",
    "#Set rates for DAC\n",
    "# sampleRateDAC = 1.125E9\n",
    "sampleRateDAC = 1E9\n",
    "#Set CF\n",
    "ncoFreq= 100E6\n",
    "################################################################################\n",
    "#wavefore parameters\n",
    "max_dac=65535 # Max Dac\n",
    "half_dac=max_dac/2 # DC Level\n",
    "data_type = np.uint16 # DAC data type\n",
    "onLen = 32 * 20 # Pulse on time multiple of 32 or 28ns\n",
    "segTime = onLen / (sampleRateDAC)\n",
    "print('On time')\n",
    "print(segTime)\n",
    "dacWaveOn_I = np.ones(onLen)\n",
    "dacWaveOn_I = dacWaveOn_I * max_dac\n",
    "dacWaveOn_I = dacWaveOn_I.astype(data_type)\n",
    "dacWaveOn_Q = dacWaveOn_I\n",
    "# reshapes for IQIQIQIQIQ....\n",
    "arr_tuple = (dacWaveOn_I, dacWaveOn_Q)\n",
    "dacWaveOn_IQ = np.vstack(arr_tuple).reshape((-1,), order='F')\n",
    "offLen = 32\n",
    "dacWaveOff_I = np.ones(offLen)\n",
    "dacWaveOff_I = dacWaveOff_I * half_dac\n",
    "dacWaveOff_I = dacWaveOff_I.astype(data_type)\n",
    "dacWaveOff_Q = dacWaveOff_I\n",
    "# reshapes for IQIQIQIQIQ....\n",
    "arr_tuple = (dacWaveOff_I, dacWaveOff_Q)\n",
    "dacWaveOff_IQ = np.vstack(arr_tuple).reshape((-1,), order='F')\n",
    "################################################################################\n",
    "#AWG channel\n",
    "ch = 1 # everythinf after relates to CH 1\n",
    "cmd = ':INST:CHAN {0}'.format(ch)\n",
    "inst.send_scpi_cmd(cmd)\n",
    "cmd = ':FREQ:RAST {0}'.format(2.5E9) # force to max 16 bit DAC\n",
    "inst.send_scpi_cmd(cmd)\n",
    "inst.send_scpi_cmd(':INIT:CONT OFF')\n",
    "inst.send_scpi_cmd(':TRAC:DEL:ALL')\n",
    "inst.send_scpi_cmd(':TRIG:SOURce:ENAB {}'.format('TRG1'))\n",
    "inst.send_scpi_cmd(':TRIG:SELECT {}'.format('TRG1'))\n",
    "inst.send_scpi_cmd(':TRIG:LTJ ON')\n",
    "inst.send_scpi_cmd(':TRIG:LEV 0.5')\n",
    "inst.send_scpi_cmd(':TRIG:DEL 0E-9')\n",
    "inst.send_scpi_cmd(':TRIG:SLOP POS')\n",
    "inst.send_scpi_cmd(':TRIG:COUP OFF')\n",
    "inst.send_scpi_cmd(':TRIGger:STAT ON')\n",
    "resp = inst.send_scpi_query(':SYST:ERR?')\n",
    "print(\"End of trig Error = \")\n",
    "print(resp)\n",
    "################################################################################\n",
    "# Define segment memory\n",
    "segnum = 1\n",
    "cmd = ':TRAC:DEF {0}, {1}'.format(segnum, len(dacWaveOn_IQ))\n",
    "inst.send_scpi_cmd(cmd)\n",
    "# Select the segment\n",
    "cmd = ':TRAC:SEL {0}'.format(segnum)\n",
    "inst.send_scpi_cmd(cmd)\n",
    "# Increase the timeout before writing binary-data:\n",
    "inst.timeout = 30000\n",
    "# Send the binary-data with *OPC? added to the beginning of its prefix.\n",
    "inst.write_binary_data('*OPC?; :TRAC:DATA', dacWaveOn_IQ)\n",
    "# Set normal timeout\n",
    "inst.timeout = 10000\n",
    "resp = inst.send_scpi_query(':SYST:ERR?')\n",
    "print(\"Trace Download Error = \")\n",
    "print(resp)\n",
    "# Define segment memory\n",
    "segnum = 2\n",
    "cmd = ':TRAC:DEF {0}, {1}'.format(segnum, len(dacWaveOff_IQ))\n",
    "inst.send_scpi_cmd(cmd)\n",
    "# Select the segment\n",
    "cmd = ':TRAC:SEL {0}'.format(segnum)\n",
    "inst.send_scpi_cmd(cmd)\n",
    "# Increase the timeout before writing binary-data:\n",
    "inst.timeout = 30000\n",
    "# Send the binary-data with *OPC? added to the beginning of its prefix.\n",
    "inst.write_binary_data('*OPC?; :TRAC:DATA', dacWaveOff_IQ)\n",
    "# Set normal timeout\n",
    "inst.timeout = 10000\n",
    "resp = inst.send_scpi_query(':SYST:ERR?')\n",
    "print(\"Trace Download Error = \")\n",
    "print(resp)\n",
    "################################################################################\n",
    "cmd = ':SOUR:MODE DUC'\n",
    "resp = inst.send_scpi_cmd(cmd)\n",
    "cmd = ':SOUR:INT X8'\n",
    "resp = inst.send_scpi_cmd(cmd)\n",
    "cmd = ':SOUR:IQM ONE'\n",
    "resp = inst.send_scpi_cmd(cmd)\n",
    "sampleRateDACInt = sampleRateDAC * 8\n",
    "print('Interpolated Sample Clk Freq {0}'.format(sampleRateDACInt))\n",
    "cmd = ':FREQ:RAST {0}'.format(sampleRateDACInt)\n",
    "resp = inst.send_scpi_cmd(cmd)\n",
    "resp = inst.send_scpi_query(':SYST:ERR?')\n",
    "print(\"IQ Set Error = \")\n",
    "print(resp)\n",
    "cmd = ':SOUR:NCO:CFR1 {0}'.format(ncoFreq)\n",
    "resp = inst.send_scpi_cmd(cmd)\n",
    "print('NCO CF: {0}'.format(ncoFreq))\n",
    "################################################################################\n",
    "#Direct RF Output CH\n",
    "cmd = ':INST:CHAN {0}'.format(ch)\n",
    "inst.send_scpi_cmd(cmd)\n",
    "cmd = ':TASK:COMP:LENG 3'\n",
    "inst.send_scpi_cmd(cmd)\n",
    "cmd = ':TASK:COMP:SEL 1'\n",
    "inst.send_scpi_cmd(cmd)\n",
    "cmd = ':TASK:COMP:SEGM 2'\n",
    "inst.send_scpi_cmd(cmd)\n",
    "cmd = ':TASK:COMP:ENAB {}'.format(\"TRG1\")\n",
    "inst.send_scpi_cmd(cmd)\n",
    "cmd = ':TASK:COMP:NEXT1 2'\n",
    "inst.send_scpi_cmd(cmd)\n",
    "cmd = ':TASK:COMP:SEL 2'\n",
    "inst.send_scpi_cmd(cmd)\n",
    "cmd = ':TASK:COMP:SEGM 1'\n",
    "inst.send_scpi_cmd(cmd)\n",
    "cmd = ':TASK:COMP:DTR ON'\n",
    "inst.send_scpi_cmd(cmd)\n",
    "cmd = ':TASK:COMP:LOOP 1'\n",
    "inst.send_scpi_cmd(cmd)\n",
    "cmd = ':TASK:COMP:NEXT1 3'\n",
    "inst.send_scpi_cmd(cmd)\n",
    "cmd = ':TASK:COMP:SEL 3'\n",
    "inst.send_scpi_cmd(cmd)\n",
    "cmd = ':TASK:COMP:SEGM 2'\n",
    "inst.send_scpi_cmd(cmd)\n",
    "cmd = ':TASK:COMP:LOOP 1'\n",
    "inst.send_scpi_cmd(cmd)\n",
    "cmd = ':TASK:COMP:NEXT1 1'\n",
    "inst.send_scpi_cmd(cmd)\n",
    "cmd = ':TASK:COMP:WRITE'\n",
    "inst.send_scpi_cmd(cmd)\n",
    "cmd = ':SOUR:FUNC:MODE TASK'\n",
    "inst.send_scpi_cmd(cmd)\n",
    "cmd = ':OUTP ON'\n",
    "rc = inst.send_scpi_cmd(cmd)\n",
    "resp = inst.send_scpi_query(':SYST:ERR?')\n",
    "print(\"End of CH1 Gen Error = \")\n",
    "print(resp)\n",
    "################################################################################\n",
    "#AWG channel\n",
    "ch = 3 # everythinf after relates to CH 2\n",
    "cmd = ':INST:CHAN {0}'.format(ch)\n",
    "inst.send_scpi_cmd(cmd)\n",
    "cmd = ':FREQ:RAST {0}'.format(2.5E9) # force to max 16 bit DAC\n",
    "inst.send_scpi_cmd(cmd)\n",
    "inst.send_scpi_cmd(':INIT:CONT ON')\n",
    "inst.send_scpi_cmd(':TRIG:SOURce:ENAB {}'.format('TRG1'))\n",
    "inst.send_scpi_cmd(':TRIG:SELECT {}'.format('TRG1'))\n",
    "inst.send_scpi_cmd(':TRIG:LTJ ON')\n",
    "inst.send_scpi_cmd(':TRIG:LEV 0.5')\n",
    "inst.send_scpi_cmd(':TRIG:DEL 0E-9')\n",
    "inst.send_scpi_cmd(':TRIG:SLOP POS')\n",
    "inst.send_scpi_cmd(':TRIG:COUP OFF')\n",
    "inst.send_scpi_cmd(':TRIGger:STAT ON')\n",
    "# inst.send_scpi_cmd(':TRAC:DEL:ALL')\n",
    "################################################################################\n",
    "# Define segment memory\n",
    "segnum = 3\n",
    "cmd = ':TRAC:DEF {0}, {1}'.format(segnum, len(dacWaveOn_IQ))\n",
    "inst.send_scpi_cmd(cmd)\n",
    "# Select the segment\n",
    "cmd = ':TRAC:SEL {0}'.format(segnum)\n",
    "inst.send_scpi_cmd(cmd)\n",
    "# Increase the timeout before writing binary-data:\n",
    "inst.timeout = 30000\n",
    "# Send the binary-data with *OPC? added to the beginning of its prefix.\n",
    "inst.write_binary_data('*OPC?; :TRAC:DATA', dacWaveOn_IQ)\n",
    "# Set normal timeout\n",
    "inst.timeout = 10000\n",
    "resp = inst.send_scpi_query(':SYST:ERR?')\n",
    "print(\"Trace Download Error = \")\n",
    "print(resp)\n",
    "# Define segment memory\n",
    "segnum = 4\n",
    "cmd = ':TRAC:DEF {0}, {1}'.format(segnum, len(dacWaveOff_IQ))\n",
    "inst.send_scpi_cmd(cmd)\n",
    "# Select the segment\n",
    "cmd = ':TRAC:SEL {0}'.format(segnum)\n",
    "inst.send_scpi_cmd(cmd)\n",
    "# Increase the timeout before writing binary-data:\n",
    "inst.timeout = 30000\n",
    "# Send the binary-data with *OPC? added to the beginning of its prefix.\n",
    "inst.write_binary_data('*OPC?; :TRAC:DATA', dacWaveOff_IQ)\n",
    "# Set normal timeout\n",
    "inst.timeout = 10000\n",
    "resp = inst.send_scpi_query(':SYST:ERR?')\n",
    "print(\"Trace Download Error = \")\n",
    "print(resp)\n",
    "################################################################################\n",
    "cmd = ':SOUR:MODE DUC'\n",
    "resp = inst.send_scpi_cmd(cmd)\n",
    "cmd = ':SOUR:INT X8'\n",
    "resp = inst.send_scpi_cmd(cmd)\n",
    "cmd = ':SOUR:IQM ONE'\n",
    "resp = inst.send_scpi_cmd(cmd)\n",
    "sampleRateDACInt = sampleRateDAC * 8\n",
    "print('Interpolated Sample Clk Freq {0}'.format(sampleRateDACInt))\n",
    "cmd = ':FREQ:RAST {0}'.format(sampleRateDACInt)\n",
    "resp = inst.send_scpi_cmd(cmd)\n",
    "resp = inst.send_scpi_query(':SYST:ERR?')\n",
    "print(\"IQ Set Error = \")\n",
    "print(resp)\n",
    "cmd = ':SOUR:NCO:CFR1 {0}'.format(ncoFreq)\n",
    "resp = inst.send_scpi_cmd(cmd)\n",
    "print('NCO CF: {0}'.format(ncoFreq))\n",
    "################################################################################\n",
    "#Direct RF Output CH\n",
    "cmd = ':INST:CHAN {0}'.format(ch)\n",
    "inst.send_scpi_cmd(cmd)\n",
    "cmd = ':TASK:COMP:LENG 3'\n",
    "inst.send_scpi_cmd(cmd)\n",
    "cmd = ':TASK:COMP:SEL 1'\n",
    "inst.send_scpi_cmd(cmd)\n",
    "cmd = ':TASK:COMP:SEGM 4'\n",
    "inst.send_scpi_cmd(cmd)\n",
    "cmd = ':TASK:COMP:ENAB {}'.format(\"TRG1\")\n",
    "inst.send_scpi_cmd(cmd)\n",
    "cmd = ':TASK:COMP:NEXT1 2'\n",
    "inst.send_scpi_cmd(cmd)\n",
    "cmd = ':TASK:COMP:SEL 2'\n",
    "inst.send_scpi_cmd(cmd)\n",
    "cmd = ':TASK:COMP:SEGM 3'\n",
    "inst.send_scpi_cmd(cmd)\n",
    "cmd = ':TASK:COMP:DTR ON'\n",
    "inst.send_scpi_cmd(cmd)\n",
    "cmd = ':TASK:COMP:LOOP 1'\n",
    "inst.send_scpi_cmd(cmd)\n",
    "cmd = ':TASK:COMP:NEXT1 3'\n",
    "inst.send_scpi_cmd(cmd)\n",
    "cmd = ':TASK:COMP:SEL 3'\n",
    "inst.send_scpi_cmd(cmd)\n",
    "cmd = ':TASK:COMP:SEGM 4'\n",
    "inst.send_scpi_cmd(cmd)\n",
    "cmd = ':TASK:COMP:LOOP 1'\n",
    "inst.send_scpi_cmd(cmd)\n",
    "cmd = ':TASK:COMP:NEXT1 1'\n",
    "inst.send_scpi_cmd(cmd)\n",
    "cmd = ':TASK:COMP:WRITE'\n",
    "inst.send_scpi_cmd(cmd)\n",
    "cmd = ':SOUR:FUNC:MODE TASK'\n",
    "inst.send_scpi_cmd(cmd)\n",
    "cmd = ':OUTP ON'\n",
    "rc = inst.send_scpi_cmd(cmd)\n",
    "resp = inst.send_scpi_query(':SYST:ERR?')\n",
    "print(\"End of CH2 Gen Error = \")\n",
    "print(resp)\n",
    "################################################################################\n",
    "\n",
    "################################################################################\n",
    "\n",
    "# Start the digitizer\n",
    "# initialize DAC and take the first capture.\n",
    "#Set number of frames to be collected\n",
    "numframes, framelen = 1, 4800 # remember multiple of 96\n",
    "totlen = numframes * framelen\n",
    "print('Waveform Length {0}'.format(totlen))\n",
    "wav1 = np.zeros(totlen, dtype=np.uint32)\n",
    "sampleRateADC = sampleRateDACInt / 4\n",
    "cmd = ':DIG:MODE DUAL'\n",
    "inst.send_scpi_cmd(cmd)\n",
    "print('ADC Clk Freq {0}'.format(sampleRateADC))\n",
    "cmd = ':DIG:FREQ  {0}'.format(sampleRateADC)\n",
    "inst.send_scpi_cmd(cmd)\n",
    "print('Aquisition Length {0}'.format(framelen/2/sampleRateADC*16)) # x16 decimation\n",
    "resp = inst.send_scpi_query(':DIG:FREQ?')\n",
    "print(\"Dig Frequency = \")\n",
    "print(resp)\n",
    "# Enable capturing data from channel 1\n",
    "cmd = ':DIG:CHAN:SEL 1'\n",
    "inst.send_scpi_cmd(cmd)\n",
    "resp = inst.send_scpi_query(':SYST:ERR?')\n",
    "print(\"Dig error = \")\n",
    "print(resp)\n",
    "cmd = ':DIG:DDC:MODE COMP'   # DDC activation to complex i+jq\n",
    "inst.send_scpi_cmd(cmd)\n",
    "cmd = ':DIG:DDC:CFR1 {0}'.format(ncoFreq)\n",
    "inst.send_scpi_cmd(cmd)\n",
    "cmd = ':DIG:DDC:PHAS1 0'\n",
    "inst.send_scpi_cmd(cmd)\n",
    "cmd = ':DIG:DDC:CLKS AWG'\n",
    "rc = inst.send_scpi_cmd(cmd)\n",
    "resp = inst.send_scpi_query(':SYST:ERR?')\n",
    "print(\"Set complex error = \")\n",
    "print(resp)\n",
    "cmd = ':DIG:CHAN:STATE ENAB'\n",
    "inst.send_scpi_cmd(cmd)\n",
    "# trigger from the task list\n",
    "cmd = ':DIG:TRIG:SOURCE TASK1'\n",
    "inst.send_scpi_cmd(cmd)\n",
    "dig_system_delay=560E-9\n",
    "cmd=':INST:CHAN:SEL 1'\n",
    "inst.send_scpi_cmd(cmd)\n",
    "# need to set the delay for individual output channel\n",
    "cmd = ':DIG:TRIG:AWG:TDEL {0}'.format(dig_system_delay)\n",
    "inst.send_scpi_cmd(cmd)\n",
    "cmd = ':DIG:ACQuire:FRAM:DEF {0},{1}'.format(numframes, framelen)\n",
    "inst.send_scpi_cmd(cmd)\n",
    "# Select the frames for the capturing\n",
    "capture_first, capture_count = 1, numframes\n",
    "cmd = ':DIG:ACQuire:FRAM:CAPT {0},{1}'.format(capture_first, capture_count)\n",
    "inst.send_scpi_cmd(cmd)"
   ],
   "id": "initial_id",
   "outputs": [
    {
     "name": "stdout",
     "output_type": "stream",
     "text": [
      "Load TEProteus.dll from : C:\\Windows\\system32\\TEProteus.dll\n",
      "connected to: slot#: 8,\n",
      "On time\n",
      "6.4e-07\n",
      "End of trig Error = \n",
      "0, no error\n",
      "Trace Download Error = \n",
      "0, no error\n",
      "Trace Download Error = \n",
      "0, no error\n",
      "Interpolated Sample Clk Freq 8000000000.0\n",
      "IQ Set Error = \n",
      "0, no error\n",
      "NCO CF: 100000000.0\n",
      "End of CH1 Gen Error = \n",
      "0, no error\n",
      "Trace Download Error = \n",
      "0, no error\n",
      "Trace Download Error = \n",
      "0, no error\n",
      "Interpolated Sample Clk Freq 8000000000.0\n",
      "IQ Set Error = \n",
      "0, no error\n",
      "NCO CF: 100000000.0\n",
      "End of CH2 Gen Error = \n",
      "0, no error\n",
      "Waveform Length 4800\n",
      "ADC Clk Freq 2000000000.0\n",
      "Aquisition Length 1.92e-05\n",
      "Dig Frequency = \n",
      "2000000000.000\n",
      "Dig error = \n",
      "0, no error\n",
      "Set complex error = \n",
      "0, no error\n"
     ]
    },
    {
     "data": {
      "text/plain": [
       "0"
      ]
     },
     "execution_count": 18,
     "metadata": {},
     "output_type": "execute_result"
    }
   ],
   "execution_count": 18
  },
  {
   "metadata": {
    "ExecuteTime": {
     "end_time": "2024-11-23T06:07:13.204417Z",
     "start_time": "2024-11-23T06:07:07.837230Z"
    }
   },
   "cell_type": "code",
   "source": [
    "\n",
    "inst.send_scpi_cmd(':DIG:INIT OFF')\n",
    "\n",
    "inst.send_scpi_cmd(':DIG:INIT ON')\n",
    "\n",
    "cmd = '*TRG'\n",
    "\n",
    "inst.send_scpi_cmd(cmd)\n",
    "\n",
    " \n",
    "\n",
    "frameRx = 0\n",
    "\n",
    "times = 0\n",
    "\n",
    "while (frameRx != 1):\n",
    "\n",
    "    resp = inst.send_scpi_query(':DIG:ACQuire:FRAM:STATus?')\n",
    "\n",
    "    framesParam = resp.split(\",\")\n",
    "\n",
    "    frameRx = int(framesParam[1])\n",
    "\n",
    "    times += 1\n",
    "\n",
    "    time.sleep(0.1)\n",
    "\n",
    "    # if times > 100:\n",
    "\n",
    "    #     break\n",
    "\n",
    "    #     # end time and print time\n",
    "\n",
    "    print(resp)\n",
    "\n",
    "inst.send_scpi_cmd(':DIG:INIT OFF')\n",
    "\n"
   ],
   "id": "4f69357ea7ee4a6b",
   "outputs": [
    {
     "name": "stdout",
     "output_type": "stream",
     "text": [
      "1,0,0,0\n",
      "1,0,0,0\n",
      "1,0,0,0\n",
      "1,0,0,0\n",
      "1,0,0,0\n",
      "1,0,0,0\n",
      "1,0,0,0\n",
      "1,0,0,0\n",
      "1,0,0,0\n",
      "1,0,0,0\n",
      "1,0,0,0\n",
      "1,0,0,0\n",
      "1,0,0,0\n",
      "1,0,0,0\n",
      "1,0,0,0\n",
      "1,0,0,0\n",
      "1,0,0,0\n",
      "1,0,0,0\n",
      "1,0,0,0\n",
      "1,0,0,0\n",
      "1,0,0,0\n",
      "1,0,0,0\n",
      "1,0,0,0\n",
      "1,0,0,0\n",
      "1,0,0,0\n",
      "1,0,0,0\n",
      "1,0,0,0\n",
      "1,0,0,0\n",
      "1,0,0,0\n",
      "1,0,0,0\n",
      "1,0,0,0\n",
      "1,0,0,0\n",
      "1,0,0,0\n",
      "1,0,0,0\n",
      "1,0,0,0\n",
      "1,0,0,0\n",
      "1,0,0,0\n",
      "1,0,0,0\n",
      "1,0,0,0\n",
      "1,0,0,0\n",
      "1,0,0,0\n",
      "1,0,0,0\n",
      "1,0,0,0\n",
      "1,0,0,0\n",
      "1,0,0,0\n",
      "1,0,0,0\n",
      "1,0,0,0\n",
      "1,0,0,0\n",
      "1,0,0,0\n",
      "1,0,0,0\n",
      "1,0,0,0\n",
      "1,0,0,0\n",
      "1,1,0,1\n"
     ]
    },
    {
     "data": {
      "text/plain": [
       "0"
      ]
     },
     "execution_count": 19,
     "metadata": {},
     "output_type": "execute_result"
    }
   ],
   "execution_count": 19
  },
  {
   "metadata": {
    "ExecuteTime": {
     "end_time": "2024-11-23T06:07:19.715117Z",
     "start_time": "2024-11-23T06:07:19.536828Z"
    }
   },
   "cell_type": "code",
   "source": [
    "################################################################################\n",
    "# Choose which frames to read (all in this example)\n",
    "cmd = ':DIG:DATA:SEL ALL'\n",
    "inst.send_scpi_cmd(cmd)\n",
    "# Choose what to read\n",
    "# (only the frame-data without the header in this example)\n",
    "cmd = ':DIG:DATA:TYPE FRAM'\n",
    "inst.send_scpi_cmd(cmd)\n",
    "# Get the total data size (in bytes)\n",
    "resp = inst.send_scpi_query(':DIG:DATA:SIZE?')\n",
    "num_bytes = np.uint32(resp)\n",
    "print('Total read size in bytes: ' + resp)\n",
    "print()\n",
    "# Read the data that was captured by channel 1:\n",
    "inst.send_scpi_cmd(':DIG:CHAN:SEL 1')\n",
    "wavlen = num_bytes // 2\n",
    "rc = inst.read_binary_data(':DIG:DATA:READ?', wav1, wavlen)\n",
    "cmd=':DIG:ACQ:ZERO:ALL 0'\n",
    "inst.send_scpi_cmd(cmd)\n",
    "################################################################################\n",
    "wav1 = np.int32(wav1) - 16384\n",
    "print(len(wav1))\n",
    "wavlen = int(len(wav1)/2)\n",
    "wavI=wav1[0::2]\n",
    "wavQ=wav1[1::2]\n",
    "wavI = wavI.astype(float)\n",
    "wavQ = wavQ.astype(float)\n",
    "print(len(wavI))\n",
    "print(len(wavQ))\n",
    "fig, axs = plt.subplots(2)\n",
    "fig.suptitle('I & Q')\n",
    "axs[0].plot(wavI)\n",
    "axs[1].plot(wavQ)\n",
    "plt.show()"
   ],
   "id": "dbe13ee2111d7d12",
   "outputs": [
    {
     "name": "stdout",
     "output_type": "stream",
     "text": [
      "Total read size in bytes: 19200\n",
      "\n",
      "4800\n",
      "2400\n",
      "2400\n"
     ]
    },
    {
     "data": {
      "text/plain": [
       "<Figure size 640x480 with 2 Axes>"
      ],
      "image/png": "[encoded data removed]"
     },
     "metadata": {},
     "output_type": "display_data"
    }
   ],
   "execution_count": 20
  },
  {
   "metadata": {
    "ExecuteTime": {
     "end_time": "2024-11-23T01:56:37.492475Z",
     "start_time": "2024-11-23T01:56:33.439359Z"
    }
   },
   "cell_type": "code",
   "source": [
    "from scipy.signal import butter,filtfilt\n",
    "def butterwort(sampling_rate,cut_off_freq,signal_input):\n",
    "    normalized_cutoff=2*cut_off_freq/sampling_rate\n",
    "    b, a = butter(4, normalized_cutoff, btype='low', analog=False)\n",
    "    filtered_signal = filtfilt(b, a, signal_input)\n",
    "    return filtered_signal"
   ],
   "id": "6e6aff5fa74c4eae",
   "outputs": [],
   "execution_count": 4
  },
  {
   "metadata": {
    "ExecuteTime": {
     "end_time": "2024-11-23T01:56:41.202174Z",
     "start_time": "2024-11-23T01:56:41.001642Z"
    }
   },
   "cell_type": "code",
   "source": "plt.plot(wavQ[80:500])",
   "id": "1f0007e0cbc7101f",
   "outputs": [
    {
     "data": {
      "text/plain": [
       "[<matplotlib.lines.Line2D at 0x2770c71c0e0>]"
      ]
     },
     "execution_count": 5,
     "metadata": {},
     "output_type": "execute_result"
    },
    {
     "data": {
      "text/plain": [
       "<Figure size 640x480 with 1 Axes>"
      ],
      "image/png": "[encoded data removed]"
     },
     "metadata": {},
     "output_type": "display_data"
    }
   ],
   "execution_count": 5
  },
  {
   "metadata": {
    "ExecuteTime": {
     "end_time": "2024-11-14T03:26:55.359346Z",
     "start_time": "2024-11-14T03:26:55.173716Z"
    }
   },
   "cell_type": "code",
   "source": [
    "wavI_filter=butterwort(sampleRateADC,10E6,wavI)\n",
    "wavQ_filter=butterwort(sampleRateADC,10E6,wavQ)\n",
    "fig, axs = plt.subplots(2)\n",
    "fig.suptitle('I & Q')\n",
    "axs[0].plot(wavI_filter)\n",
    "axs[1].plot(wavQ_filter)\n",
    "plt.show()"
   ],
   "id": "9234437f0e97a7a3",
   "outputs": [
    {
     "data": {
      "text/plain": [
       "<Figure size 640x480 with 2 Axes>"
      ],
      "image/png": "[encoded data removed]"
     },
     "metadata": {},
     "output_type": "display_data"
    }
   ],
   "execution_count": 136
  },
  {
   "metadata": {
    "ExecuteTime": {
     "end_time": "2024-11-14T03:08:27.919262Z",
     "start_time": "2024-11-14T03:08:27.908116Z"
    }
   },
   "cell_type": "code",
   "source": "inst.send_scpi_query(':DIG:DDC:DEC?')",
   "id": "41227f13a0e2b6c6",
   "outputs": [
    {
     "data": {
      "text/plain": [
       "'0'"
      ]
     },
     "execution_count": 113,
     "metadata": {},
     "output_type": "execute_result"
    }
   ],
   "execution_count": 113
  },
  {
   "metadata": {
    "ExecuteTime": {
     "end_time": "2024-11-14T03:34:38.007400Z",
     "start_time": "2024-11-14T03:34:37.822342Z"
    }
   },
   "cell_type": "code",
   "source": [
    "t=np.linspace(0,len(wavI)/sampleRateADC*16*1E9,len(wavI),endpoint=False)\n",
    "plt.plot(t[0:200],wavI[0:200])\n",
    "plt.xlabel('ns')\n",
    "plt.ylabel('I component')\n",
    "plt.title('I')"
   ],
   "id": "7b4b598ad51d640a",
   "outputs": [
    {
     "data": {
      "text/plain": [
       "Text(0.5, 1.0, 'I')"
      ]
     },
     "execution_count": 145,
     "metadata": {},
     "output_type": "execute_result"
    },
    {
     "data": {
      "text/plain": [
       "<Figure size 640x480 with 1 Axes>"
      ],
      "image/png": "[encoded data removed]"
     },
     "metadata": {},
     "output_type": "display_data"
    }
   ],
   "execution_count": 145
  },
  {
   "metadata": {
    "ExecuteTime": {
     "end_time": "2024-11-14T03:48:57.676001Z",
     "start_time": "2024-11-14T03:48:57.661193Z"
    }
   },
   "cell_type": "code",
   "source": "inst.send_scpi_query(':TRIG:LTJ?')",
   "id": "158888ac2a4c723d",
   "outputs": [
    {
     "data": {
      "text/plain": [
       "'ON'"
      ]
     },
     "execution_count": 146,
     "metadata": {},
     "output_type": "execute_result"
    }
   ],
   "execution_count": 146
  },
  {
   "metadata": {
    "ExecuteTime": {
     "end_time": "2024-11-01T00:44:21.732443Z",
     "start_time": "2024-11-01T00:44:21.727933Z"
    }
   },
   "cell_type": "code",
   "source": "15+10.5/16+0.31/2.54",
   "id": "98dac9b9be697673",
   "outputs": [
    {
     "data": {
      "text/plain": [
       "15.778297244094489"
      ]
     },
     "execution_count": 58,
     "metadata": {},
     "output_type": "execute_result"
    }
   ],
   "execution_count": 58
  },
  {
   "metadata": {
    "ExecuteTime": {
     "end_time": "2024-11-01T00:45:38.610166Z",
     "start_time": "2024-11-01T00:45:38.600978Z"
    }
   },
   "cell_type": "code",
   "source": "13.65-5.38",
   "id": "82abfff20b57b0c1",
   "outputs": [
    {
     "data": {
      "text/plain": [
       "8.27"
      ]
     },
     "execution_count": 60,
     "metadata": {},
     "output_type": "execute_result"
    }
   ],
   "execution_count": 60
  },
  {
   "metadata": {
    "ExecuteTime": {
     "end_time": "2024-11-01T00:45:52.571118Z",
     "start_time": "2024-11-01T00:45:52.560196Z"
    }
   },
   "cell_type": "code",
   "source": "8.27*2.54",
   "id": "f788f8e0db24a47",
   "outputs": [
    {
     "data": {
      "text/plain": [
       "21.0058"
      ]
     },
     "execution_count": 61,
     "metadata": {},
     "output_type": "execute_result"
    }
   ],
   "execution_count": 61
  },
  {
   "metadata": {
    "ExecuteTime": {
     "end_time": "2024-11-01T00:46:56.705793Z",
     "start_time": "2024-11-01T00:46:56.694884Z"
    }
   },
   "cell_type": "code",
   "source": "15.78-5.38",
   "id": "d8d2e8802accddde",
   "outputs": [
    {
     "data": {
      "text/plain": [
       "10.399999999999999"
      ]
     },
     "execution_count": 62,
     "metadata": {},
     "output_type": "execute_result"
    }
   ],
   "execution_count": 62
  },
  {
   "metadata": {
    "ExecuteTime": {
     "end_time": "2024-11-01T00:47:05.902599Z",
     "start_time": "2024-11-01T00:47:05.892319Z"
    }
   },
   "cell_type": "code",
   "source": "10.4*2.54",
   "id": "9d8b4a91d6f1944",
   "outputs": [
    {
     "data": {
      "text/plain": [
       "26.416"
      ]
     },
     "execution_count": 63,
     "metadata": {},
     "output_type": "execute_result"
    }
   ],
   "execution_count": 63
  },
  {
   "metadata": {
    "ExecuteTime": {
     "end_time": "2024-11-01T00:50:26.062236Z",
     "start_time": "2024-11-01T00:50:26.051493Z"
    }
   },
   "cell_type": "code",
   "source": "21-2/16-1/2",
   "id": "97eb209ef20e80e4",
   "outputs": [
    {
     "data": {
      "text/plain": [
       "20.375"
      ]
     },
     "execution_count": 64,
     "metadata": {},
     "output_type": "execute_result"
    }
   ],
   "execution_count": 64
  },
  {
   "metadata": {
    "ExecuteTime": {
     "end_time": "2024-11-23T01:52:01.367519Z",
     "start_time": "2024-11-23T01:52:01.357524Z"
    }
   },
   "cell_type": "code",
   "source": "inst.send_scpi_query(':DIGitizer:DDC:DECimation?')",
   "id": "94449bbc464b3f43",
   "outputs": [
    {
     "data": {
      "text/plain": [
       "'X16'"
      ]
     },
     "execution_count": 18,
     "metadata": {},
     "output_type": "execute_result"
    }
   ],
   "execution_count": 18
  },
  {
   "metadata": {
    "ExecuteTime": {
     "end_time": "2024-11-23T01:52:31.869605Z",
     "start_time": "2024-11-23T01:52:31.860433Z"
    }
   },
   "cell_type": "code",
   "source": "16*80/(9E9/4)",
   "id": "732cf43c2e7ab377",
   "outputs": [
    {
     "data": {
      "text/plain": [
       "5.688888888888889e-07"
      ]
     },
     "execution_count": 19,
     "metadata": {},
     "output_type": "execute_result"
    }
   ],
   "execution_count": 19
  },
  {
   "metadata": {},
   "cell_type": "code",
   "outputs": [],
   "execution_count": null,
   "source": "",
   "id": "eb759e1830c611b6"
  }
 ],
 "metadata": {
  "kernelspec": {
   "display_name": "Python 3",
   "language": "python",
   "name": "python3"
  },
  "language_info": {
   "codemirror_mode": {
    "name": "ipython",
    "version": 2
   },
   "file_extension": ".py",
   "mimetype": "text/x-python",
   "name": "python",
   "nbconvert_exporter": "python",
   "pygments_lexer": "ipython2",
   "version": "2.7.6"
  }
 },
 "nbformat": 4,
 "nbformat_minor": 5
}
