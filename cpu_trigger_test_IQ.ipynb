{
 "cells": [
  {
   "cell_type": "code",
   "id": "initial_id",
   "metadata": {
    "collapsed": true,
    "ExecuteTime": {
     "end_time": "2024-10-31T20:01:05.606252Z",
     "start_time": "2024-10-31T20:01:05.600494Z"
    }
   },
   "source": [
    "import os \n",
    "import sys \n",
    "from SourceFiles.teproteus import TEProteusAdmin as TepAdmin\n",
    "import matplotlib.pyplot as plt\n",
    "import numpy as np"
   ],
   "outputs": [],
   "execution_count": 13
  },
  {
   "metadata": {
    "ExecuteTime": {
     "end_time": "2024-10-31T20:01:12.733594Z",
     "start_time": "2024-10-31T20:01:06.095984Z"
    }
   },
   "cell_type": "code",
   "source": [
    "# connect and initialize\n",
    "admin = TepAdmin() #required to control PXI module\n",
    "sid = 8 #PXI slot WDS found\n",
    "inst = admin.open_instrument(slot_id=sid)\n",
    "resp = inst.send_scpi_query(\"*IDN?\")\n",
    "print('connected to: ' + resp) # Print *IDN\n",
    "inst.send_scpi_cmd('*CLS; *RST')"
   ],
   "id": "abb392b6ba7e623e",
   "outputs": [
    {
     "name": "stdout",
     "output_type": "stream",
     "text": [
      "Load TEProteus.dll from : C:\\Windows\\system32\\TEProteus.dll\n",
      "connected to: slot#: 8,\n"
     ]
    },
    {
     "data": {
      "text/plain": [
       "0"
      ]
     },
     "execution_count": 14,
     "metadata": {},
     "output_type": "execute_result"
    }
   ],
   "execution_count": 14
  },
  {
   "metadata": {
    "ExecuteTime": {
     "end_time": "2024-10-31T20:01:12.776601Z",
     "start_time": "2024-10-31T20:01:12.772899Z"
    }
   },
   "cell_type": "code",
   "source": "",
   "id": "c35c5d774d1c0c55",
   "outputs": [],
   "execution_count": null
  },
  {
   "metadata": {
    "ExecuteTime": {
     "end_time": "2024-10-31T20:01:17.316310Z",
     "start_time": "2024-10-31T20:01:12.803430Z"
    }
   },
   "cell_type": "code",
   "source": [
    "\n",
    "sampleRateDAC = 8E9\n",
    "inst.send_scpi_cmd(':FREQ:RAST {0}'.format(2.5E9))\n",
    "inst.send_scpi_cmd(':INST:CHAN {0}'.format(1))\n",
    "inst.send_scpi_cmd(':MODE DUC')\n",
    "inst.send_scpi_cmd(':SOUR:INT X8')\n",
    "inst.send_scpi_cmd(':FREQ:RAST {0}'.format(sampleRateDAC))\n",
    "inst.send_scpi_cmd(':IQM ONE')\n",
    "\n",
    "inst.send_scpi_cmd(':SOUR:NCO:CFR1 10E6')\n",
    "\n",
    "inst.send_scpi_cmd(':FREQ:RAST {0}'.format(2.5E9))\n",
    "inst.send_scpi_cmd(':INST:CHAN {0}'.format(2))\n",
    "inst.send_scpi_cmd(':MODE DUC')\n",
    "inst.send_scpi_cmd(':SOUR:INT X8')\n",
    "inst.send_scpi_cmd(':FREQ:RAST {0}'.format(sampleRateDAC))\n",
    "inst.send_scpi_cmd(':IQM ONE')\n",
    "inst.send_scpi_cmd(':SOUR:NCO:CFR1 10E6')\n",
    "\n",
    "\n",
    "\n",
    "inst.send_scpi_query(':INT?')\n",
    "\n",
    "inst.send_scpi_query(':INT?')"
   ],
   "id": "c7ccca8511d037e9",
   "outputs": [
    {
     "data": {
      "text/plain": [
       "'X8'"
      ]
     },
     "execution_count": 15,
     "metadata": {},
     "output_type": "execute_result"
    }
   ],
   "execution_count": 15
  },
  {
   "metadata": {
    "ExecuteTime": {
     "end_time": "2024-10-31T20:01:17.378876Z",
     "start_time": "2024-10-31T20:01:17.366288Z"
    }
   },
   "cell_type": "code",
   "source": [
    "resp=inst.send_scpi_query(':SYST:ERR?')\n",
    "\n",
    "print(resp)"
   ],
   "id": "c3038c2485320693",
   "outputs": [
    {
     "name": "stdout",
     "output_type": "stream",
     "text": [
      "0, no error\n"
     ]
    }
   ],
   "execution_count": 16
  },
  {
   "metadata": {
    "ExecuteTime": {
     "end_time": "2024-10-31T20:01:17.427002Z",
     "start_time": "2024-10-31T20:01:17.409113Z"
    }
   },
   "cell_type": "code",
   "source": "inst.send_scpi_query(':FREQ:RAST?')",
   "id": "b984bb10af128223",
   "outputs": [
    {
     "data": {
      "text/plain": [
       "'8000000000.000'"
      ]
     },
     "execution_count": 17,
     "metadata": {},
     "output_type": "execute_result"
    }
   ],
   "execution_count": 17
  },
  {
   "metadata": {
    "ExecuteTime": {
     "end_time": "2024-10-31T20:01:17.498036Z",
     "start_time": "2024-10-31T20:01:17.480477Z"
    }
   },
   "cell_type": "code",
   "source": [
    "\n",
    "max_dac=65535 # Max Dac\n",
    "half_dac=max_dac/2 # DC Lev\n",
    "data_type = np.uint16 # DAC data type\n",
    "\n",
    "segTime =16000\n",
    "\n",
    " \n",
    "\n",
    "dacWaveOn_I = np.ones(segTime)\n",
    "\n",
    "dacWaveOn_I = dacWaveOn_I * max_dac\n",
    "\n",
    "dacWaveOn_I = dacWaveOn_I.astype(data_type)\n",
    "\n",
    "dacWaveOn_Q = np.ones(segTime)*(32768)\n",
    "\n",
    "dacWaveOn_Q = dacWaveOn_Q.astype(data_type)\n",
    "\n",
    "# reshapes for IQIQIQIQIQ....\n",
    "\n",
    "\n",
    "arr_tuple = (dacWaveOn_I, dacWaveOn_Q)\n",
    "\n",
    "dacWaveOn_IQ = np.vstack(arr_tuple).reshape((-1,), order='F')\n",
    "\n",
    "print(len(dacWaveOn_IQ))\n"
   ],
   "id": "fcd22270d778c7be",
   "outputs": [
    {
     "name": "stdout",
     "output_type": "stream",
     "text": [
      "32000\n"
     ]
    }
   ],
   "execution_count": 18
  },
  {
   "metadata": {
    "ExecuteTime": {
     "end_time": "2024-10-31T20:01:17.529411Z",
     "start_time": "2024-10-31T20:01:17.517601Z"
    }
   },
   "cell_type": "code",
   "source": "dacWaveOn_IQ",
   "id": "6d8891b0d62c1575",
   "outputs": [
    {
     "data": {
      "text/plain": [
       "array([65535, 32768, 65535, ..., 32768, 65535, 32768], dtype=uint16)"
      ]
     },
     "execution_count": 19,
     "metadata": {},
     "output_type": "execute_result"
    }
   ],
   "execution_count": 19
  },
  {
   "metadata": {
    "ExecuteTime": {
     "end_time": "2024-10-31T20:01:18.181565Z",
     "start_time": "2024-10-31T20:01:17.560005Z"
    }
   },
   "cell_type": "code",
   "source": [
    "# select CH1\n",
    "ch = 1 # everything after relates to CH 1 \n",
    "segnum = 1\n",
    "inst.send_scpi_cmd('*CLS')\n",
    "inst.send_scpi_cmd(':INST:CHAN {0}'.format(ch)) \n",
    "inst.send_scpi_cmd(':TRAC:DEL:ALL')\n",
    "inst.send_scpi_cmd(':TRAC:DEF {0}, {1}'.format(segnum, len(dacWaveOn_IQ)))\n",
    "inst.send_scpi_cmd(':TRAC:SEL {0}'.format(segnum))\n",
    "inst.write_binary_data(':TRAC:DATA', dacWaveOn_IQ) # write, and wait while *OPC completes\n",
    "\n",
    "inst.send_scpi_cmd(':TASK:COMP:LENG 1')\n",
    "inst.send_scpi_cmd(':TASK:COMP:SEL 1')\n",
    "inst.send_scpi_cmd(':TASK:COMP:SEGM 1')\n",
    "\n",
    "inst.send_scpi_cmd(':TASK:COMP:ENAB INT')\n",
    "inst.send_scpi_cmd(':TASK:COMP:NEXT1 1')\n",
    "inst.send_scpi_cmd(':TASK:COMP:WRITE')\n",
    "inst.send_scpi_cmd(':SOUR:FUNC:MODE TASK')\n",
    "\n",
    "\n",
    "inst.send_scpi_cmd(':OUTP ON')\n",
    "inst.send_scpi_query(':SYST:ERR?')"
   ],
   "id": "1fdbfc02a2a05cd",
   "outputs": [
    {
     "data": {
      "text/plain": [
       "'0, no error'"
      ]
     },
     "execution_count": 20,
     "metadata": {},
     "output_type": "execute_result"
    }
   ],
   "execution_count": 20
  },
  {
   "metadata": {
    "ExecuteTime": {
     "end_time": "2024-10-31T20:01:18.906144Z",
     "start_time": "2024-10-31T20:01:18.293203Z"
    }
   },
   "cell_type": "code",
   "source": [
    "ch = 2 # everything after relates to CH 2\n",
    "inst.send_scpi_cmd(':INST:CHAN {0}'.format(ch)) \n",
    "inst.send_scpi_cmd(':TASK:COMP:LENG 1')\n",
    "inst.send_scpi_cmd(':TASK:COMP:SEL 1')\n",
    "inst.send_scpi_cmd(':TASK:COMP:SEGM 1')\n",
    "\n",
    "inst.send_scpi_cmd(':TASK:COMP:ENAB INT')\n",
    "inst.send_scpi_cmd(':TASK:COMP:NEXT1 1')\n",
    "inst.send_scpi_cmd(':TASK:COMP:WRITE')\n",
    "inst.send_scpi_cmd(':SOUR:FUNC:MODE TASK')\n",
    "inst.send_scpi_cmd(':OUTP ON')"
   ],
   "id": "81fe66efe23c2751",
   "outputs": [
    {
     "data": {
      "text/plain": [
       "0"
      ]
     },
     "execution_count": 21,
     "metadata": {},
     "output_type": "execute_result"
    }
   ],
   "execution_count": 21
  },
  {
   "metadata": {
    "ExecuteTime": {
     "end_time": "2024-10-31T20:01:22.108057Z",
     "start_time": "2024-10-31T20:01:22.099958Z"
    }
   },
   "cell_type": "code",
   "source": [
    "inst.send_scpi_cmd(':INST:CHAN 1')\n",
    "inst.send_scpi_cmd(':TRIG:COUP ON')\n",
    "inst.send_scpi_cmd('*TRG')\n",
    "\n",
    "\n",
    "# inst.send_scpi_cmd(':TRIG:SEL TRG1')\n",
    "# inst.send_scpi_cmd(':TRIG:STAT ON')\n",
    "# inst.send_scpi_cmd(':TRIG:LEV 1.0')\n",
    "\n",
    "\n",
    "\n",
    "\n",
    "\n",
    "\n",
    "\n"
   ],
   "id": "cd634d4044e364ba",
   "outputs": [
    {
     "data": {
      "text/plain": [
       "0"
      ]
     },
     "execution_count": 22,
     "metadata": {},
     "output_type": "execute_result"
    }
   ],
   "execution_count": 22
  },
  {
   "metadata": {
    "ExecuteTime": {
     "end_time": "2024-10-23T00:56:58.608236Z",
     "start_time": "2024-10-23T00:56:58.600660Z"
    }
   },
   "cell_type": "code",
   "source": "",
   "id": "12a954a84b938252",
   "outputs": [],
   "execution_count": null
  },
  {
   "metadata": {
    "ExecuteTime": {
     "end_time": "2024-10-20T22:29:44.116863Z",
     "start_time": "2024-10-20T22:29:44.109363Z"
    }
   },
   "cell_type": "code",
   "source": "",
   "id": "87df5ecf6ed9a0aa",
   "outputs": [],
   "execution_count": null
  },
  {
   "metadata": {},
   "cell_type": "code",
   "outputs": [],
   "execution_count": null,
   "source": "",
   "id": "4fe985cdc098dbd1"
  }
 ],
 "metadata": {
  "kernelspec": {
   "display_name": "Python 3",
   "language": "python",
   "name": "python3"
  },
  "language_info": {
   "codemirror_mode": {
    "name": "ipython",
    "version": 2
   },
   "file_extension": ".py",
   "mimetype": "text/x-python",
   "name": "python",
   "nbconvert_exporter": "python",
   "pygments_lexer": "ipython2",
   "version": "2.7.6"
  }
 },
 "nbformat": 4,
 "nbformat_minor": 5
}
