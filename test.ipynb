{
 "cells": [
  {
   "cell_type": "code",
   "id": "initial_id",
   "metadata": {
    "collapsed": true,
    "ExecuteTime": {
     "end_time": "2024-09-23T00:21:25.694450Z",
     "start_time": "2024-09-23T00:21:25.674466Z"
    }
   },
   "source": [
    "import os\n",
    "import sys\n",
    "srcpath = os.path.realpath('SourceFiles')\n",
    "sys.path.append(srcpath)"
   ],
   "outputs": [],
   "execution_count": 1
  },
  {
   "metadata": {
    "ExecuteTime": {
     "end_time": "2024-09-23T00:21:34.664758Z",
     "start_time": "2024-09-23T00:21:30.534427Z"
    }
   },
   "cell_type": "code",
   "source": [
    "from teproteus import TEProteusAdmin as TepAdmin\n",
    "admin = TepAdmin() #required to control PXI module\n",
    "sid = 8 #PXI slot WDS found\n",
    "inst = admin.open_instrument(slot_id=sid)\n",
    "resp = inst.send_scpi_query(\"*IDN?\")\n",
    "print('connected to: ' + resp) # Print *IDN"
   ],
   "id": "e2084af761a57ef5",
   "outputs": [
    {
     "name": "stdout",
     "output_type": "stream",
     "text": [
      "Load TEProteus.dll from : C:\\Windows\\system32\\TEProteus.dll\n",
      "connected to: Tabor Electronics,P9484M,000002243278,1.237.0 --slot#: 8,\n"
     ]
    }
   ],
   "execution_count": 2
  },
  {
   "metadata": {
    "ExecuteTime": {
     "end_time": "2024-09-23T00:22:00.974111Z",
     "start_time": "2024-09-23T00:22:00.174955Z"
    }
   },
   "cell_type": "code",
   "source": [
    "import matplotlib.pyplot as plt\n",
    "import numpy as np\n",
    "sampleRateDAC = 1E9\n",
    "amp = 1\n",
    "cycles = 10\n",
    "segLen = 1024 # must be a multiple of 64\n",
    "time = np.linspace(0, segLen-1, segLen)\n",
    "w = 2 * np.pi * cycles\n",
    "dacWave = amp * np.sin(w*time/segLen)\n",
    "print('Frequency {0} Hz'.format(sampleRateDAC*cycles/segLen))"
   ],
   "id": "8c2c9f395be9f879",
   "outputs": [
    {
     "name": "stdout",
     "output_type": "stream",
     "text": [
      "Frequency 9765625.0 Hz\n"
     ]
    }
   ],
   "execution_count": 3
  },
  {
   "metadata": {
    "ExecuteTime": {
     "end_time": "2024-09-23T00:22:31.958690Z",
     "start_time": "2024-09-23T00:22:31.949648Z"
    }
   },
   "cell_type": "code",
   "source": [
    "max_dac=65535 # Max Dac \n",
    "half_dac=max_dac/2 # DC Level \n",
    "data_type = np.uint16 # DAC data type  \n",
    "dacWave = ((dacWave) + 1.0) * half_dac   \n",
    "dacWave = dacWave.astype(data_type)  "
   ],
   "id": "7ee2256dc62d6da3",
   "outputs": [],
   "execution_count": 4
  },
  {
   "metadata": {
    "ExecuteTime": {
     "end_time": "2024-09-23T00:23:13.826689Z",
     "start_time": "2024-09-23T00:23:10.572366Z"
    }
   },
   "cell_type": "code",
   "source": [
    "inst.send_scpi_cmd('*CLS; *RST') # Init instrument \n",
    "#AWG channel \n",
    "ch = 1 # everything after relates to CH 1 \n",
    "cmd = ':INST:CHAN {0}'.format(ch) \n",
    "inst.send_scpi_cmd(cmd) \n",
    "cmd = ':FREQ:RAST {0}'.format(sampleRateDAC)  \n",
    "inst.send_scpi_cmd(cmd) \n",
    "cmd = ':TRAC:DEL:ALL' # Clear CH 1 Memory \n",
    "inst.send_scpi_cmd(cmd) \n",
    "cmd = ':INIT:CONT ON' # play waveform continuously \n",
    "inst.send_scpi_cmd(cmd)"
   ],
   "id": "6570886c951b0a8c",
   "outputs": [
    {
     "data": {
      "text/plain": [
       "0"
      ]
     },
     "execution_count": 5,
     "metadata": {},
     "output_type": "execute_result"
    }
   ],
   "execution_count": 5
  },
  {
   "metadata": {
    "ExecuteTime": {
     "end_time": "2024-09-23T00:24:12.735520Z",
     "start_time": "2024-09-23T00:24:12.711102Z"
    }
   },
   "cell_type": "code",
   "source": [
    "segnum = 1 \n",
    "cmd = ':TRAC:DEF {0}, {1}'.format(segnum, len(dacWave)) # memory location and length \n",
    "inst.send_scpi_cmd(cmd) \n",
    "# Select the segment \n",
    "cmd = ':TRAC:SEL {0}'.format(segnum) \n",
    "inst.send_scpi_cmd(cmd)"
   ],
   "id": "26cf70491cd382ab",
   "outputs": [
    {
     "data": {
      "text/plain": [
       "0"
      ]
     },
     "execution_count": 6,
     "metadata": {},
     "output_type": "execute_result"
    }
   ],
   "execution_count": 6
  },
  {
   "metadata": {
    "ExecuteTime": {
     "end_time": "2024-09-23T00:24:33.730087Z",
     "start_time": "2024-09-23T00:24:33.144550Z"
    }
   },
   "cell_type": "code",
   "source": [
    "inst.timeout = 30000 #increase \n",
    "inst.write_binary_data('*OPC?; :TRAC:DATA', dacWave) # write, and wait while *OPC completes \n",
    "inst.timeout = 10000 # return to normal \n",
    "cmd = ':FUNC:MODE:SEGM {0}'.format(segnum) \n",
    "inst.send_scpi_cmd(cmd) \n",
    "cmd = ':OUTP ON' \n",
    "rc = inst.send_scpi_cmd(cmd)"
   ],
   "id": "bf4b3ad897ab5898",
   "outputs": [],
   "execution_count": 8
  },
  {
   "metadata": {
    "ExecuteTime": {
     "end_time": "2024-09-23T18:11:20.738387Z",
     "start_time": "2024-09-23T18:11:20.698491Z"
    }
   },
   "cell_type": "code",
   "source": [
    "inst.send_scpi_cmd(cmd)\n",
    "cmd = ':TRAC:DEL:ALL' # Clear CH 1 Memory\n",
    "inst.send_scpi_cmd(cmd)\n",
    "cmd = ':INIT:CONT ON' # play waveform continuously"
   ],
   "id": "ef3a96bfa49324c4",
   "outputs": [],
   "execution_count": 9
  },
  {
   "metadata": {
    "ExecuteTime": {
     "end_time": "2024-09-23T18:11:49.611337Z",
     "start_time": "2024-09-23T18:11:46.964610Z"
    }
   },
   "cell_type": "code",
   "source": "inst.send_scpi_cmd('*CLS; *RST') # Init instrument",
   "id": "f9ace662b9da107e",
   "outputs": [
    {
     "data": {
      "text/plain": [
       "0"
      ]
     },
     "execution_count": 10,
     "metadata": {},
     "output_type": "execute_result"
    }
   ],
   "execution_count": 10
  },
  {
   "metadata": {
    "ExecuteTime": {
     "end_time": "2024-10-21T22:14:31.586340Z",
     "start_time": "2024-10-21T22:14:31.569134Z"
    }
   },
   "cell_type": "code",
   "source": [
    "array1 = [1, 3, 5]\n",
    "array2 = [2, 4, 6]\n",
    "\n",
    "# 使用zip交替合并两个数组\n",
    "merged_array = [val for pair in zip(array1, array2) for val in pair]\n",
    "\n",
    "print(merged_array)"
   ],
   "id": "bbfa22596268194f",
   "outputs": [
    {
     "name": "stdout",
     "output_type": "stream",
     "text": [
      "[1, 2, 3, 4, 5, 6]\n"
     ]
    }
   ],
   "execution_count": 1
  },
  {
   "metadata": {
    "ExecuteTime": {
     "end_time": "2024-10-23T00:03:07.649552Z",
     "start_time": "2024-10-23T00:03:07.628031Z"
    }
   },
   "cell_type": "code",
   "source": "0.5*64",
   "id": "5fcba62bffcba71b",
   "outputs": [
    {
     "data": {
      "text/plain": [
       "32.0"
      ]
     },
     "execution_count": 2,
     "metadata": {},
     "output_type": "execute_result"
    }
   ],
   "execution_count": 2
  },
  {
   "metadata": {
    "ExecuteTime": {
     "end_time": "2024-10-23T00:44:55.841430Z",
     "start_time": "2024-10-23T00:44:55.833029Z"
    }
   },
   "cell_type": "code",
   "source": [
    "ncoFreq= 25E6  #<---- CF\n",
    "sampleRateDAC = 1.125E9\n",
    "ncoFreq= 3E6\n",
    "\n",
    " \n",
    "\n",
    "#wavefore parameters\n",
    "\n",
    "max_dac=65535 # Max Dac\n",
    "\n",
    "half_dac=max_dac/2 # DC Level\n",
    "\n",
    "data_type = np.uint16 # DAC data type\n",
    "\n",
    " \n",
    "\n",
    "onLen = 5 # Pulse on time multiple of 32 or 28ns\n",
    "\n",
    " \n",
    "\n",
    "segTime = onLen / (sampleRateDAC)\n",
    "\n",
    "print('On time')\n",
    "\n",
    "print(segTime)\n",
    "\n",
    " \n",
    "\n",
    " \n",
    "\n",
    "dacWaveOn_I = np.ones(onLen)\n",
    "\n",
    "dacWaveOn_I = dacWaveOn_I * max_dac\n",
    "\n",
    "dacWaveOn_I = dacWaveOn_I.astype(data_type)\n",
    "\n",
    "dacWaveOn_Q = dacWaveOn_I*0\n",
    "\n",
    "# reshapes for IQIQIQIQIQ....\n",
    "\n",
    "arr_tuple = (dacWaveOn_I, dacWaveOn_Q)\n",
    "\n",
    "dacWaveOn_IQ = np.vstack(arr_tuple).reshape((-1,), order='F')\n",
    "print(dacWaveOn_IQ)"
   ],
   "id": "9a94be2ef65b13f2",
   "outputs": [
    {
     "name": "stdout",
     "output_type": "stream",
     "text": [
      "On time\n",
      "4.444444444444444e-09\n",
      "[65535     0 65535     0 65535     0 65535     0 65535     0]\n"
     ]
    }
   ],
   "execution_count": 9
  },
  {
   "metadata": {},
   "cell_type": "code",
   "outputs": [],
   "execution_count": null,
   "source": "",
   "id": "8990f265a1be53c"
  }
 ],
 "metadata": {
  "kernelspec": {
   "display_name": "Python 3",
   "language": "python",
   "name": "python3"
  },
  "language_info": {
   "codemirror_mode": {
    "name": "ipython",
    "version": 2
   },
   "file_extension": ".py",
   "mimetype": "text/x-python",
   "name": "python",
   "nbconvert_exporter": "python",
   "pygments_lexer": "ipython2",
   "version": "2.7.6"
  }
 },
 "nbformat": 4,
 "nbformat_minor": 5
}
