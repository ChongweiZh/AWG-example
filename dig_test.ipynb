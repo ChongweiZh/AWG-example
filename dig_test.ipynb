{
 "cells": [
  {
   "cell_type": "code",
   "id": "initial_id",
   "metadata": {
    "collapsed": true,
    "ExecuteTime": {
     "end_time": "2024-10-24T00:43:11.306604Z",
     "start_time": "2024-10-24T00:43:00.619594Z"
    }
   },
   "source": [
    "from SourceFiles.teproteus import TEProteusAdmin as TepAdmin\n",
    "import matplotlib.pyplot as plt\n",
    "import numpy as np\n",
    "\n",
    "# connect\n",
    "admin = TepAdmin() #required to control PXI module\n",
    "sid = 8 #PXI slot WDS found\n",
    "inst = admin.open_instrument(slot_id=sid)\n",
    "resp = inst.send_scpi_query(\"*IDN?\")\n",
    "print('connected to: ' + resp) # Print *IDN\n",
    "\n",
    "inst.send_scpi_cmd('*CLS; *RST') # Init instrument\n",
    "#AWG channel\n",
    "ch = 1 # everything after relates to CH 1\n",
    "cmd = ':INST:CHAN {0}'.format(ch) #Everything is now CH one only operation\n",
    "inst.send_scpi_cmd(cmd)\n",
    "\n",
    "sampleRateDAC = 1E9\n",
    "cmd = ':FREQ:RAST {0}'.format(sampleRateDAC) \n",
    "inst.send_scpi_cmd(cmd)\n",
    "cmd = ':TRAC:DEL:ALL' # Clear CH 1 Memory\n",
    "inst.send_scpi_cmd(cmd)\n",
    "cmd = ':INIT:CONT ON' # play waveform continuously\n",
    "\n",
    "max_dac=65535 # Max Dac\n",
    "half_dac=max_dac/2 # DC Level\n",
    "data_type = np.uint16 # DAC data type \n",
    "\n",
    "# Make and scale waveform\n",
    "segLen = 1024 # must be a multiple of 64\n",
    "dacWave = np.ones(segLen)\n",
    "dacWave = dacWave * max_dac \n",
    "dacWave = dacWave.astype(data_type)\n",
    "\n",
    "# reshapes for IQIQIQIQIQ....\n",
    "arr_tuple = (dacWave, dacWave)\n",
    "dacWave = np.vstack(arr_tuple).reshape((-1,), order='F')\n",
    "\n",
    "# Create a waveform memory segment\n",
    "segnum = 1\n",
    "cmd = ':TRAC:DEF {0}, {1}'.format(segnum, len(dacWave)) # memory location and length\n",
    "inst.send_scpi_cmd(cmd)\n",
    "\n",
    "# Select the segment\n",
    "cmd = ':TRAC:SEL {0}'.format(segnum)\n",
    "inst.send_scpi_cmd(cmd)\n",
    "\n",
    "#Download\n",
    "inst.timeout = 30000 #increase\n",
    "inst.write_binary_data('*OPC?; :TRAC:DATA', dacWave) # write, and wait while *OPC completes\n",
    "inst.timeout = 10000 # return to normal\n",
    "\n",
    "# Create and download a second Segment\n",
    "segnum = 2\n",
    "dacWaveDC = np.ones(segLen)\n",
    "dacWaveDC = dacWaveDC * half_dac  # scale\n",
    "dacWaveDC = dacWaveDC.astype(data_type)  \n",
    "\n",
    "# reshapes for IQIQIQIQIQ....\n",
    "arr_tuple = (dacWaveDC, dacWaveDC)\n",
    "dacWaveDC = np.vstack(arr_tuple).reshape((-1,), order='F')\n",
    "\n",
    "cmd = ':TRAC:DEF {0}, {1}'.format(segnum, len(dacWaveDC)) # memory location and length\n",
    "inst.send_scpi_cmd(cmd)\n",
    "cmd = ':TRAC:SEL {0}'.format(segnum)\n",
    "inst.send_scpi_cmd(cmd)\n",
    "\n",
    "inst.timeout = 30000 #increase\n",
    "inst.write_binary_data('*OPC?; :TRAC:DATA', dacWaveDC) # write, and wait while *OPC completes\n",
    "inst.timeout = 10000 # return to normal\n",
    "\n",
    "#Create a Task Table\n",
    "cmd = ':TASK:COMP:LENG 2' # set task table length\n",
    "inst.send_scpi_cmd(cmd)\n",
    "\n",
    "cmd = ':TASK:COMP:SEL 1' # set task 1\n",
    "inst.send_scpi_cmd(cmd)\n",
    "cmd = ':TASK:COMP:SEGM 1'\n",
    "inst.send_scpi_cmd(cmd)\n",
    "cmd = ':TASK:COMP:ENAB CPU'\n",
    "inst.send_scpi_cmd(cmd)\n",
    "cmd = ':TASK:COMP:DTR ON' # Trigger the Digitizer\n",
    "inst.send_scpi_cmd(cmd)\n",
    "cmd = ':TASK:COMP:NEXT1 2'\n",
    "inst.send_scpi_cmd(cmd)\n",
    "\n",
    "cmd = ':TASK:COMP:SEL 2' # set task 2\n",
    "inst.send_scpi_cmd(cmd)\n",
    "cmd = ':TASK:COMP:SEGM 2'\n",
    "inst.send_scpi_cmd(cmd)\n",
    "cmd = ':TASK:COMP:LOOP 10' \n",
    "inst.send_scpi_cmd(cmd)\n",
    "cmd = ':TASK:COMP:NEXT1 1'\n",
    "inst.send_scpi_cmd(cmd)\n",
    "\n",
    "cmd = ':TASK:COMP:WRITE' #write to FPGA\n",
    "inst.send_scpi_cmd(cmd)\n",
    "\n",
    "cmd = ':SOUR:FUNC:MODE TASK'\n",
    "inst.send_scpi_cmd(cmd)\n",
    "\n",
    "cmd = ':SOUR:MODE DUC'\n",
    "resp = inst.send_scpi_cmd(cmd)\n",
    "cmd = ':SOUR:IQM ONE'\n",
    "resp = inst.send_scpi_cmd(cmd)\n",
    "# Set x8 interpolation\n",
    "cmd = ':SOUR:INT X8'\n",
    "resp = inst.send_scpi_cmd(cmd)\n",
    "# Reset sample rate to interpolated rate\n",
    "sampleRateDACInt = sampleRateDAC * 8\n",
    "cmd = ':FREQ:RAST {0}'.format(sampleRateDACInt)\n",
    "resp = inst.send_scpi_cmd(cmd)\n",
    "#Set the LO (NCO)\n",
    "ncoFreq = 10E6\n",
    "cmd = ':SOUR:NCO:CFR1 {0}'.format(ncoFreq)\n",
    "resp = inst.send_scpi_cmd(cmd)\n",
    "\n",
    "print(inst.send_scpi_query(':INT?'))\n",
    "\n",
    "cmd = ':OUTP ON'\n",
    "rc = inst.send_scpi_cmd(cmd)\n",
    "\n",
    "# Digitize\n",
    "numframes, framelen = 2, 9600\n",
    "totalLen = numframes * framelen\n",
    "wav1 = np.zeros(framelen, dtype=np.uint16)\n",
    "inst.send_scpi_cmd(':DIG:MODE DUAL') # enables CH1 and CH2, max rate is 2.5GS/s\n",
    "sampleRateADC = 1E9\n",
    "cmd = ':DIG:FREQ  {0}'.format(sampleRateADC)\n",
    "inst.send_scpi_cmd(cmd)\n",
    "\n",
    "inst.send_scpi_cmd(':DIG:CHAN:SEL 1')\n",
    "inst.send_scpi_cmd(':DIG:CHAN:STATE ENAB')\n",
    "inst.send_scpi_cmd(':DIG:TRIG:SOURCE TASK1')\n",
    "cmd = ':DIG:ACQuire:FRAM:DEF {0},{1}'.format(numframes, framelen)\n",
    "inst.send_scpi_cmd(cmd)\n",
    "capture_first, capture_count = 1, numframes\n",
    "cmd = ':DIG:ACQuire:FRAM:CAPT {0},{1}'.format(capture_first, capture_count)\n",
    "inst.send_scpi_cmd(cmd)\n",
    "# Start the digitizer's capture machine\n",
    "inst.send_scpi_cmd(':DIG:INIT ON')\n",
    "\n",
    "\n"
   ],
   "outputs": [
    {
     "name": "stdout",
     "output_type": "stream",
     "text": [
      "Load TEProteus.dll from : C:\\Windows\\system32\\TEProteus.dll\n",
      "connected to: Tabor Electronics,P9484M,000002243278,1.237.0 --slot#: 8,\n",
      "X8\n"
     ]
    },
    {
     "data": {
      "text/plain": [
       "0"
      ]
     },
     "execution_count": 1,
     "metadata": {},
     "output_type": "execute_result"
    }
   ],
   "execution_count": 1
  },
  {
   "metadata": {
    "ExecuteTime": {
     "end_time": "2024-10-24T00:43:12.683999Z",
     "start_time": "2024-10-24T00:43:12.678405Z"
    }
   },
   "cell_type": "code",
   "source": "inst.send_scpi_cmd('*TRG')",
   "id": "463028d2c1adbcd3",
   "outputs": [
    {
     "data": {
      "text/plain": [
       "0"
      ]
     },
     "execution_count": 2,
     "metadata": {},
     "output_type": "execute_result"
    }
   ],
   "execution_count": 2
  },
  {
   "metadata": {
    "jupyter": {
     "is_executing": true
    },
    "ExecuteTime": {
     "end_time": "2024-10-24T00:44:29.577213200Z",
     "start_time": "2024-10-24T00:43:14.435202Z"
    }
   },
   "cell_type": "code",
   "source": [
    "inst.send_scpi_cmd(':DIG:DATA:SEL ALL')\n",
    "inst.send_scpi_cmd(':DIG:DATA:TYPE FRAM')\n",
    "resp = inst.send_scpi_query(':DIG:DATA:SIZE?')\n",
    "rc = inst.read_binary_data(':DIG:DATA:READ?', wav1, totalLen)\n",
    "plt.plot(wav1)\n",
    "plt.show()"
   ],
   "id": "831e8c8b8c031086",
   "outputs": [],
   "execution_count": null
  },
  {
   "metadata": {},
   "cell_type": "code",
   "outputs": [],
   "execution_count": null,
   "source": "",
   "id": "4f26a633fbe4859e"
  }
 ],
 "metadata": {
  "kernelspec": {
   "display_name": "Python 3",
   "language": "python",
   "name": "python3"
  },
  "language_info": {
   "codemirror_mode": {
    "name": "ipython",
    "version": 2
   },
   "file_extension": ".py",
   "mimetype": "text/x-python",
   "name": "python",
   "nbconvert_exporter": "python",
   "pygments_lexer": "ipython2",
   "version": "2.7.6"
  }
 },
 "nbformat": 4,
 "nbformat_minor": 5
}
