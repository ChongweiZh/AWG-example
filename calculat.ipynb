{
 "cells": [
  {
   "cell_type": "code",
   "id": "initial_id",
   "metadata": {
    "collapsed": true,
    "ExecuteTime": {
     "end_time": "2024-09-25T19:27:21.212717Z",
     "start_time": "2024-09-25T19:27:21.193120Z"
    }
   },
   "source": "3.14*(2.5E-3)**2/4",
   "outputs": [
    {
     "data": {
      "text/plain": [
       "4.906250000000001e-06"
      ]
     },
     "execution_count": 1,
     "metadata": {},
     "output_type": "execute_result"
    }
   ],
   "execution_count": 1
  },
  {
   "metadata": {
    "ExecuteTime": {
     "end_time": "2024-10-16T01:55:25.712613Z",
     "start_time": "2024-10-16T01:55:25.707835Z"
    }
   },
   "cell_type": "code",
   "source": "0.25**2/50",
   "id": "f5d1826fca883a27",
   "outputs": [
    {
     "data": {
      "text/plain": [
       "0.00125"
      ]
     },
     "execution_count": 2,
     "metadata": {},
     "output_type": "execute_result"
    }
   ],
   "execution_count": 2
  },
  {
   "metadata": {
    "ExecuteTime": {
     "end_time": "2024-11-23T03:21:41.582979Z",
     "start_time": "2024-11-23T03:21:41.425105Z"
    }
   },
   "cell_type": "code",
   "source": [
    "import numpy as np\n",
    "np.sqrt((1E-9)*50)"
   ],
   "id": "764390da0be20e18",
   "outputs": [
    {
     "data": {
      "text/plain": [
       "0.00022360679774997898"
      ]
     },
     "execution_count": 1,
     "metadata": {},
     "output_type": "execute_result"
    }
   ],
   "execution_count": 1
  },
  {
   "metadata": {
    "ExecuteTime": {
     "end_time": "2024-11-23T03:22:03.363905Z",
     "start_time": "2024-11-23T03:22:03.356004Z"
    }
   },
   "cell_type": "code",
   "source": [
    "array=[0,1,5,5]\n",
    "np.all(np.isin(array, [0, 1, 2]))"
   ],
   "id": "e548b8d770c60743",
   "outputs": [
    {
     "data": {
      "text/plain": [
       "False"
      ]
     },
     "execution_count": 2,
     "metadata": {},
     "output_type": "execute_result"
    }
   ],
   "execution_count": 2
  },
  {
   "metadata": {
    "ExecuteTime": {
     "end_time": "2024-10-16T21:41:59.806673Z",
     "start_time": "2024-10-16T21:41:59.801510Z"
    }
   },
   "cell_type": "code",
   "source": "0.5**2/50",
   "id": "d26d96e8efeb30f3",
   "outputs": [
    {
     "data": {
      "text/plain": [
       "0.005"
      ]
     },
     "execution_count": 8,
     "metadata": {},
     "output_type": "execute_result"
    }
   ],
   "execution_count": 8
  },
  {
   "metadata": {
    "ExecuteTime": {
     "end_time": "2024-10-16T21:19:54.442529Z",
     "start_time": "2024-10-16T21:19:54.437235Z"
    }
   },
   "cell_type": "code",
   "source": "np.sqrt(50*0.1)",
   "id": "9bb9f59d0dc000e0",
   "outputs": [
    {
     "data": {
      "text/plain": [
       "2.23606797749979"
      ]
     },
     "execution_count": 7,
     "metadata": {},
     "output_type": "execute_result"
    }
   ],
   "execution_count": 7
  },
  {
   "metadata": {
    "ExecuteTime": {
     "end_time": "2024-10-16T21:49:39.166195Z",
     "start_time": "2024-10-16T21:49:39.155898Z"
    }
   },
   "cell_type": "code",
   "source": "3**2/2/50",
   "id": "7cfb0eeff70cde44",
   "outputs": [
    {
     "data": {
      "text/plain": [
       "0.09"
      ]
     },
     "execution_count": 9,
     "metadata": {},
     "output_type": "execute_result"
    }
   ],
   "execution_count": 9
  },
  {
   "metadata": {
    "ExecuteTime": {
     "end_time": "2024-10-19T01:40:03.144413Z",
     "start_time": "2024-10-19T01:40:03.126210Z"
    }
   },
   "cell_type": "code",
   "source": "((1E-6)*2*50)**0.5",
   "id": "b2ae7b9927620dd7",
   "outputs": [
    {
     "data": {
      "text/plain": [
       "0.01"
      ]
     },
     "execution_count": 10,
     "metadata": {},
     "output_type": "execute_result"
    }
   ],
   "execution_count": 10
  },
  {
   "metadata": {
    "ExecuteTime": {
     "end_time": "2024-10-19T02:12:06.376858Z",
     "start_time": "2024-10-19T02:12:06.361850Z"
    }
   },
   "cell_type": "code",
   "source": "1/2*(30E-3)**2/50",
   "id": "b2d6e8a35ccc78e3",
   "outputs": [
    {
     "data": {
      "text/plain": [
       "9e-06"
      ]
     },
     "execution_count": 12,
     "metadata": {},
     "output_type": "execute_result"
    }
   ],
   "execution_count": 12
  },
  {
   "metadata": {
    "ExecuteTime": {
     "end_time": "2024-11-08T04:50:32.360008Z",
     "start_time": "2024-11-08T04:50:32.347070Z"
    }
   },
   "cell_type": "code",
   "source": "(10E-3*50)**0.5",
   "id": "649d6c0b4bcf2644",
   "outputs": [
    {
     "data": {
      "text/plain": [
       "0.7071067811865476"
      ]
     },
     "execution_count": 2,
     "metadata": {},
     "output_type": "execute_result"
    }
   ],
   "execution_count": 2
  },
  {
   "metadata": {
    "ExecuteTime": {
     "end_time": "2024-11-14T02:18:49.567960Z",
     "start_time": "2024-11-14T02:18:49.548033Z"
    }
   },
   "cell_type": "code",
   "source": "720E-9-32*10/(1.125E9)",
   "id": "171f600c5bc9c727",
   "outputs": [
    {
     "data": {
      "text/plain": [
       "4.3555555555555556e-07"
      ]
     },
     "execution_count": 6,
     "metadata": {},
     "output_type": "execute_result"
    }
   ],
   "execution_count": 6
  },
  {
   "metadata": {
    "ExecuteTime": {
     "end_time": "2024-11-14T03:28:22.918101Z",
     "start_time": "2024-11-14T03:28:22.903712Z"
    }
   },
   "cell_type": "code",
   "source": "82/2.25E9*16",
   "id": "96d2356a337135f9",
   "outputs": [
    {
     "data": {
      "text/plain": [
       "5.831111111111111e-07"
      ]
     },
     "execution_count": 28,
     "metadata": {},
     "output_type": "execute_result"
    }
   ],
   "execution_count": 28
  },
  {
   "metadata": {
    "ExecuteTime": {
     "end_time": "2024-11-14T03:21:13.500820Z",
     "start_time": "2024-11-14T03:21:13.490777Z"
    }
   },
   "cell_type": "code",
   "source": "2400/2.25E9*16",
   "id": "6e4cf5b63bdae237",
   "outputs": [
    {
     "data": {
      "text/plain": [
       "1.7066666666666667e-05"
      ]
     },
     "execution_count": 24,
     "metadata": {},
     "output_type": "execute_result"
    }
   ],
   "execution_count": 24
  },
  {
   "metadata": {
    "ExecuteTime": {
     "end_time": "2024-11-14T02:27:56.258024Z",
     "start_time": "2024-11-14T02:27:56.247466Z"
    }
   },
   "cell_type": "code",
   "source": [
    "import numpy as np\n",
    "np.sqrt((1/(9E9))**2+(150E-12)**2)"
   ],
   "id": "195de8dd44ef0978",
   "outputs": [
    {
     "data": {
      "text/plain": [
       "1.8666997351568269e-10"
      ]
     },
     "execution_count": 11,
     "metadata": {},
     "output_type": "execute_result"
    }
   ],
   "execution_count": 11
  },
  {
   "metadata": {
    "ExecuteTime": {
     "end_time": "2024-11-14T03:23:19.061010Z",
     "start_time": "2024-11-14T03:23:19.041116Z"
    }
   },
   "cell_type": "code",
   "source": "32*500/(1.125E9)",
   "id": "106351bfd3812611",
   "outputs": [
    {
     "data": {
      "text/plain": [
       "1.4222222222222222e-05"
      ]
     },
     "execution_count": 27,
     "metadata": {},
     "output_type": "execute_result"
    }
   ],
   "execution_count": 27
  },
  {
   "metadata": {
    "ExecuteTime": {
     "end_time": "2024-11-14T02:59:13.403775Z",
     "start_time": "2024-11-14T02:59:13.388452Z"
    }
   },
   "cell_type": "code",
   "source": "1/(3E8)",
   "id": "d9d36f46396100ce",
   "outputs": [
    {
     "data": {
      "text/plain": [
       "3.3333333333333334e-09"
      ]
     },
     "execution_count": 22,
     "metadata": {},
     "output_type": "execute_result"
    }
   ],
   "execution_count": 22
  },
  {
   "metadata": {},
   "cell_type": "code",
   "outputs": [],
   "execution_count": null,
   "source": "",
   "id": "711949ac6e69c946"
  }
 ],
 "metadata": {
  "kernelspec": {
   "display_name": "Python 3",
   "language": "python",
   "name": "python3"
  },
  "language_info": {
   "codemirror_mode": {
    "name": "ipython",
    "version": 2
   },
   "file_extension": ".py",
   "mimetype": "text/x-python",
   "name": "python",
   "nbconvert_exporter": "python",
   "pygments_lexer": "ipython2",
   "version": "2.7.6"
  }
 },
 "nbformat": 4,
 "nbformat_minor": 5
}
