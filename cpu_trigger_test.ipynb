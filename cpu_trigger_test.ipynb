{
 "cells": [
  {
   "cell_type": "code",
   "id": "initial_id",
   "metadata": {
    "collapsed": true,
    "ExecuteTime": {
     "end_time": "2024-10-31T19:59:19.700579Z",
     "start_time": "2024-10-31T19:59:19.093512Z"
    }
   },
   "source": [
    "import os \n",
    "import sys \n",
    "from SourceFiles.teproteus import TEProteusAdmin as TepAdmin\n",
    "import matplotlib.pyplot as plt\n",
    "import numpy as np"
   ],
   "outputs": [],
   "execution_count": 1
  },
  {
   "metadata": {
    "ExecuteTime": {
     "end_time": "2024-10-31T19:59:26.284632Z",
     "start_time": "2024-10-31T19:59:19.710578Z"
    }
   },
   "cell_type": "code",
   "source": [
    "# connect and initialize\n",
    "admin = TepAdmin() #required to control PXI module\n",
    "sid = 8 #PXI slot WDS found\n",
    "inst = admin.open_instrument(slot_id=sid)\n",
    "resp = inst.send_scpi_query(\"*IDN?\")\n",
    "print('connected to: ' + resp) # Print *IDN\n",
    "inst.send_scpi_cmd('*CLS; *RST')"
   ],
   "id": "abb392b6ba7e623e",
   "outputs": [
    {
     "name": "stdout",
     "output_type": "stream",
     "text": [
      "Load TEProteus.dll from : C:\\Windows\\system32\\TEProteus.dll\n",
      "connected to: Tabor Electronics,P9484M,000002243278,1.237.0 --slot#: 8,\n"
     ]
    },
    {
     "data": {
      "text/plain": [
       "0"
      ]
     },
     "execution_count": 2,
     "metadata": {},
     "output_type": "execute_result"
    }
   ],
   "execution_count": 2
  },
  {
   "metadata": {
    "ExecuteTime": {
     "end_time": "2024-10-31T19:59:26.965979Z",
     "start_time": "2024-10-31T19:59:26.393888Z"
    }
   },
   "cell_type": "code",
   "source": [
    "# initialize DAC\n",
    "sampleRateDAC = 1E9\n",
    "inst.send_scpi_cmd(':FREQ:RAST {0}'.format(sampleRateDAC))"
   ],
   "id": "c35c5d774d1c0c55",
   "outputs": [
    {
     "data": {
      "text/plain": [
       "0"
      ]
     },
     "execution_count": 3,
     "metadata": {},
     "output_type": "execute_result"
    }
   ],
   "execution_count": 3
  },
  {
   "metadata": {
    "ExecuteTime": {
     "end_time": "2024-10-31T19:59:27.105895Z",
     "start_time": "2024-10-31T19:59:27.091450Z"
    }
   },
   "cell_type": "code",
   "source": [
    "# create waveform\n",
    "amp = 1  \n",
    "cycles = 10\n",
    "segLen = 1024 # must be a multiple of 64\n",
    "time = np.linspace(0, segLen-1, segLen)\n",
    "w = 2 * np.pi \n",
    "dacWave = amp * np.sin(w*time*cycles/segLen) \n",
    "max_dac=65535 # Max Dac\n",
    "half_dac=max_dac/2 # DC Level\n",
    "data_type = np.uint16 # DAC data type \n",
    "dacWave = ((dacWave) + 1.0) * half_dac  \n",
    "dacWave = dacWave.astype(data_type) "
   ],
   "id": "faefda7e3d99f4d7",
   "outputs": [],
   "execution_count": 4
  },
  {
   "metadata": {
    "ExecuteTime": {
     "end_time": "2024-10-31T19:59:30.513512Z",
     "start_time": "2024-10-31T19:59:29.887722Z"
    }
   },
   "cell_type": "code",
   "source": [
    "# select CH1\n",
    "ch = 1 # everything after relates to CH 1 \n",
    "segnum = 1\n",
    "inst.send_scpi_cmd(':INST:CHAN {0}'.format(ch)) \n",
    "inst.send_scpi_cmd(':TRAC:DEL:ALL')\n",
    "inst.send_scpi_cmd(':TRAC:DEF {0}, {1}'.format(segnum, len(dacWave)))\n",
    "inst.send_scpi_cmd(':TRAC:SEL {0}'.format(segnum))\n",
    "inst.write_binary_data(':TRAC:DATA', dacWave) # write, and wait while *OPC completes\n",
    "\n",
    "inst.send_scpi_cmd(':TASK:COMP:LENG 1')\n",
    "inst.send_scpi_cmd(':TASK:COMP:SEL 1')\n",
    "inst.send_scpi_cmd(':TASK:COMP:SEGM 1')\n",
    "\n",
    "inst.send_scpi_cmd(':TASK:COMP:ENAB INT')\n",
    "inst.send_scpi_cmd(':TASK:COMP:NEXT1 1')\n",
    "inst.send_scpi_cmd(':TASK:COMP:WRITE')\n",
    "inst.send_scpi_cmd(':SOUR:FUNC:MODE TASK')\n",
    "inst.send_scpi_cmd(':OUTP ON')"
   ],
   "id": "1fdbfc02a2a05cd",
   "outputs": [
    {
     "data": {
      "text/plain": [
       "0"
      ]
     },
     "execution_count": 5,
     "metadata": {},
     "output_type": "execute_result"
    }
   ],
   "execution_count": 5
  },
  {
   "metadata": {
    "ExecuteTime": {
     "end_time": "2024-10-31T19:59:31.743342Z",
     "start_time": "2024-10-31T19:59:31.157648Z"
    }
   },
   "cell_type": "code",
   "source": [
    "ch = 2 # everything after relates to CH 2\n",
    "inst.send_scpi_cmd(':INST:CHAN {0}'.format(ch)) \n",
    "inst.send_scpi_cmd(':TASK:COMP:LENG 1')\n",
    "inst.send_scpi_cmd(':TASK:COMP:SEL 1')\n",
    "inst.send_scpi_cmd(':TASK:COMP:SEGM 1')\n",
    "inst.send_scpi_cmd(':TASK:COMP:ENAB INT')\n",
    "inst.send_scpi_cmd(':TASK:COMP:NEXT1 1')\n",
    "inst.send_scpi_cmd(':TASK:COMP:WRITE')\n",
    "inst.send_scpi_cmd(':SOUR:FUNC:MODE TASK')\n",
    "inst.send_scpi_cmd(':OUTP ON')"
   ],
   "id": "81fe66efe23c2751",
   "outputs": [
    {
     "data": {
      "text/plain": [
       "0"
      ]
     },
     "execution_count": 6,
     "metadata": {},
     "output_type": "execute_result"
    }
   ],
   "execution_count": 6
  },
  {
   "metadata": {
    "ExecuteTime": {
     "end_time": "2024-10-31T19:59:35.150376Z",
     "start_time": "2024-10-31T19:59:35.138773Z"
    }
   },
   "cell_type": "code",
   "source": [
    "inst.send_scpi_cmd(':INST:CHAN 1')\n",
    "inst.send_scpi_cmd(':TRIG:COUP ON')\n",
    "inst.send_scpi_cmd('*TRG')\n",
    "\n",
    "\n",
    "# inst.send_scpi_cmd(':TRIG:SEL TRG1')\n",
    "# inst.send_scpi_cmd(':TRIG:STAT ON')\n",
    "# inst.send_scpi_cmd(':TRIG:LEV 1.0')\n",
    "\n",
    "\n",
    "\n",
    "\n",
    "\n",
    "\n",
    "\n"
   ],
   "id": "cd634d4044e364ba",
   "outputs": [
    {
     "data": {
      "text/plain": [
       "0"
      ]
     },
     "execution_count": 7,
     "metadata": {},
     "output_type": "execute_result"
    }
   ],
   "execution_count": 7
  },
  {
   "metadata": {
    "ExecuteTime": {
     "end_time": "2024-10-22T17:22:42.554047Z",
     "start_time": "2024-10-22T17:22:42.548233Z"
    }
   },
   "cell_type": "code",
   "source": "",
   "id": "12a954a84b938252",
   "outputs": [],
   "execution_count": null
  },
  {
   "metadata": {
    "ExecuteTime": {
     "end_time": "2024-10-20T22:29:44.116863Z",
     "start_time": "2024-10-20T22:29:44.109363Z"
    }
   },
   "cell_type": "code",
   "source": "",
   "id": "87df5ecf6ed9a0aa",
   "outputs": [],
   "execution_count": null
  },
  {
   "metadata": {},
   "cell_type": "code",
   "outputs": [],
   "execution_count": null,
   "source": "",
   "id": "4fe985cdc098dbd1"
  }
 ],
 "metadata": {
  "kernelspec": {
   "display_name": "Python 3",
   "language": "python",
   "name": "python3"
  },
  "language_info": {
   "codemirror_mode": {
    "name": "ipython",
    "version": 2
   },
   "file_extension": ".py",
   "mimetype": "text/x-python",
   "name": "python",
   "nbconvert_exporter": "python",
   "pygments_lexer": "ipython2",
   "version": "2.7.6"
  }
 },
 "nbformat": 4,
 "nbformat_minor": 5
}
