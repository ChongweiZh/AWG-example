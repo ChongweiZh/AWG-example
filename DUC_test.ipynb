{
 "cells": [
  {
   "cell_type": "code",
   "id": "initial_id",
   "metadata": {
    "collapsed": true,
    "ExecuteTime": {
     "end_time": "2024-10-21T22:27:37.569028Z",
     "start_time": "2024-10-21T22:27:37.555102Z"
    }
   },
   "source": [
    "import os \n",
    "import sys \n",
    "from SourceFiles.teproteus import TEProteusAdmin as TepAdmin\n",
    "import matplotlib.pyplot as plt\n",
    "import numpy as np"
   ],
   "outputs": [],
   "execution_count": 55
  },
  {
   "metadata": {
    "ExecuteTime": {
     "end_time": "2024-10-21T22:27:45.072825Z",
     "start_time": "2024-10-21T22:27:38.454478Z"
    }
   },
   "cell_type": "code",
   "source": [
    "# connect and initialize\n",
    "admin = TepAdmin() #required to control PXI module\n",
    "sid = 8 #PXI slot WDS found\n",
    "inst = admin.open_instrument(slot_id=sid)\n",
    "resp = inst.send_scpi_query(\"*IDN?\")\n",
    "print('connected to: ' + resp) # Print *IDN\n",
    "inst.send_scpi_cmd('*CLS; *RST')"
   ],
   "id": "abb392b6ba7e623e",
   "outputs": [
    {
     "name": "stdout",
     "output_type": "stream",
     "text": [
      "Load TEProteus.dll from : C:\\Windows\\system32\\TEProteus.dll\n",
      "connected to: slot#: 8,\n"
     ]
    },
    {
     "data": {
      "text/plain": [
       "0"
      ]
     },
     "execution_count": 56,
     "metadata": {},
     "output_type": "execute_result"
    }
   ],
   "execution_count": 56
  },
  {
   "metadata": {
    "ExecuteTime": {
     "end_time": "2024-10-22T17:15:47.902741Z",
     "start_time": "2024-10-22T17:15:47.461250Z"
    }
   },
   "cell_type": "code",
   "source": [
    "# initialize DAC\n",
    "sampleRateDAC = 1E9\n",
    "inst.send_scpi_cmd(':FREQ:RAST {0}'.format(sampleRateDAC))\n",
    "inst.send_scpi_cmd(':SOUR:INT X2')"
   ],
   "id": "c35c5d774d1c0c55",
   "outputs": [
    {
     "ename": "NameError",
     "evalue": "name 'inst' is not defined",
     "output_type": "error",
     "traceback": [
      "\u001B[1;31m---------------------------------------------------------------------------\u001B[0m",
      "\u001B[1;31mNameError\u001B[0m                                 Traceback (most recent call last)",
      "Cell \u001B[1;32mIn[1], line 3\u001B[0m\n\u001B[0;32m      1\u001B[0m \u001B[38;5;66;03m# initialize DAC\u001B[39;00m\n\u001B[0;32m      2\u001B[0m sampleRateDAC \u001B[38;5;241m=\u001B[39m \u001B[38;5;241m1E9\u001B[39m\n\u001B[1;32m----> 3\u001B[0m inst\u001B[38;5;241m.\u001B[39msend_scpi_cmd(\u001B[38;5;124m'\u001B[39m\u001B[38;5;124m:FREQ:RAST \u001B[39m\u001B[38;5;132;01m{0}\u001B[39;00m\u001B[38;5;124m'\u001B[39m\u001B[38;5;241m.\u001B[39mformat(sampleRateDAC))\n\u001B[0;32m      4\u001B[0m inst\u001B[38;5;241m.\u001B[39msend_scpi_cmd(\u001B[38;5;124m'\u001B[39m\u001B[38;5;124m:SOUR:INT X2\u001B[39m\u001B[38;5;124m'\u001B[39m)\n",
      "\u001B[1;31mNameError\u001B[0m: name 'inst' is not defined"
     ]
    }
   ],
   "execution_count": 1
  },
  {
   "metadata": {
    "ExecuteTime": {
     "end_time": "2024-10-21T22:27:48.220278Z",
     "start_time": "2024-10-21T22:27:47.031218Z"
    }
   },
   "cell_type": "code",
   "source": [
    "# initialize EXT trigger (trigger for every channel need to be set independantly!)\n",
    "# TRIG:LEV property of a trigger\n",
    "# TRIG:STAT:SOUR:ENAB property of chan\n",
    "# TRIG:STAT property of a selected trigger to an selected channel\n",
    "\n",
    "inst.send_scpi_cmd(':INST:CHAN 1') \n",
    "inst.send_scpi_cmd(':TRIG:SOUR:ENAB TRG1')\n",
    "inst.send_scpi_cmd(':TRIG:SEL TRG1')\n",
    "inst.send_scpi_cmd(':TRIG:LEV 0.5')\n",
    "inst.send_scpi_cmd(':TRIG:STAT ON')\n",
    "\n",
    "inst.send_scpi_cmd(':INST:CHAN 2') \n",
    "inst.send_scpi_cmd(':TRIG:SOUR:ENAB TRG1')\n",
    "inst.send_scpi_cmd(':TRIG:STAT ON')\n",
    "\n"
   ],
   "id": "ce5027cae65b76f2",
   "outputs": [
    {
     "data": {
      "text/plain": [
       "0"
      ]
     },
     "execution_count": 58,
     "metadata": {},
     "output_type": "execute_result"
    }
   ],
   "execution_count": 58
  },
  {
   "metadata": {
    "ExecuteTime": {
     "end_time": "2024-10-21T22:27:49.074831Z",
     "start_time": "2024-10-21T22:27:49.053883Z"
    }
   },
   "cell_type": "code",
   "source": [
    "#wavefore parameters\n",
    "\n",
    "max_dac=65535 # Max Dac\n",
    "half_dac=max_dac/2 # DC Lev\n",
    "data_type = np.uint16 # DAC data type\n",
    "\n",
    "segTime =np.int16(1E4)\n",
    "\n",
    "\n",
    " \n",
    "\n",
    " \n",
    "\n",
    "dacWaveOn_I = np.ones(segTime)\n",
    "\n",
    "dacWaveOn_I = dacWaveOn_I * max_dac\n",
    "\n",
    "dacWaveOn_I = dacWaveOn_I.astype(data_type)\n",
    "\n",
    "dacWaveOn_Q = np.zeros(segTime)\n",
    "\n",
    "dacWaveOn_Q = dacWaveOn_Q * max_dac\n",
    "\n",
    "dacWaveOn_Q = dacWaveOn_Q.astype(data_type)\n",
    "\n",
    "# reshapes for IQIQIQIQIQ....\n",
    "\n",
    "\n",
    "dacWaveOn_IQ = np.array([val for pair in zip(dacWaveOn_I, dacWaveOn_Q) for val in pair])\n"
   ],
   "id": "faefda7e3d99f4d7",
   "outputs": [],
   "execution_count": 59
  },
  {
   "metadata": {
    "ExecuteTime": {
     "end_time": "2024-10-21T22:27:52.190302Z",
     "start_time": "2024-10-21T22:27:51.041935Z"
    }
   },
   "cell_type": "code",
   "source": [
    "# channel 1 DUC\n",
    "inst.send_scpi_cmd(':INST:CHAN {0}'.format(1)) \n",
    "inst.send_scpi_cmd(':MODE DUC')\n",
    "inst.send_scpi_cmd(':IQM ONE')\n",
    "inst.send_scpi_query(':SOUR:NCO:CFR1 100E6')\n",
    "\n",
    "inst.send_scpi_cmd(':INST:CHAN {0}'.format(2)) \n",
    "inst.send_scpi_cmd(':MODE DUC')\n",
    "inst.send_scpi_cmd(':IQM ONE')\n",
    "inst.send_scpi_query(':SOUR:NCO:CFR1 100E6')"
   ],
   "id": "5b20f529300cedf4",
   "outputs": [
    {
     "data": {
      "text/plain": [
       "''"
      ]
     },
     "execution_count": 60,
     "metadata": {},
     "output_type": "execute_result"
    }
   ],
   "execution_count": 60
  },
  {
   "metadata": {
    "ExecuteTime": {
     "end_time": "2024-10-21T22:27:55.576083Z",
     "start_time": "2024-10-21T22:27:54.960285Z"
    }
   },
   "cell_type": "code",
   "source": [
    "# select CH1\n",
    "ch = 1 # everything after relates to CH 1 \n",
    "segnum = 1\n",
    "inst.send_scpi_cmd(':INST:CHAN {0}'.format(ch)) \n",
    "inst.send_scpi_cmd(':TRAC:DEL:ALL')\n",
    "inst.send_scpi_cmd(':TRAC:DEF {0}, {1}'.format(segnum, len(dacWaveOn_IQ)))\n",
    "inst.send_scpi_cmd(':TRAC:SEL {0}'.format(segnum))\n",
    "inst.write_binary_data(':TRAC:DATA', dacWaveOn_IQ) # write, and wait while *OPC completes\n",
    "\n",
    "inst.send_scpi_cmd(':TASK:COMP:LENG 1')\n",
    "inst.send_scpi_cmd(':TASK:COMP:SEL 1')\n",
    "inst.send_scpi_cmd(':TASK:COMP:SEGM 1')\n",
    "\n",
    "inst.send_scpi_cmd(':TASK:COMP:ENAB TRG1')\n",
    "inst.send_scpi_cmd(':TASK:COMP:NEXT1 1')\n",
    "inst.send_scpi_cmd(':TASK:COMP:WRITE')\n",
    "inst.send_scpi_cmd(':SOUR:FUNC:MODE TASK')\n",
    "inst.send_scpi_cmd(':OUTP ON')"
   ],
   "id": "1fdbfc02a2a05cd",
   "outputs": [
    {
     "data": {
      "text/plain": [
       "0"
      ]
     },
     "execution_count": 61,
     "metadata": {},
     "output_type": "execute_result"
    }
   ],
   "execution_count": 61
  },
  {
   "metadata": {
    "ExecuteTime": {
     "end_time": "2024-10-21T22:27:58.551309Z",
     "start_time": "2024-10-21T22:27:58.547180Z"
    }
   },
   "cell_type": "code",
   "source": "",
   "id": "cd7fc3153b3d8b8c",
   "outputs": [],
   "execution_count": null
  },
  {
   "metadata": {
    "ExecuteTime": {
     "end_time": "2024-10-21T22:27:59.850029Z",
     "start_time": "2024-10-21T22:27:59.253100Z"
    }
   },
   "cell_type": "code",
   "source": [
    "ch = 2 # everything after relates to CH 2\n",
    "inst.send_scpi_cmd(':INST:CHAN {0}'.format(ch)) \n",
    "inst.send_scpi_cmd(':TASK:COMP:LENG 1')\n",
    "inst.send_scpi_cmd(':TASK:COMP:SEL 1')\n",
    "inst.send_scpi_cmd(':TASK:COMP:SEGM 1')\n",
    "inst.send_scpi_cmd(':TASK:COMP:ENAB TRG1')\n",
    "inst.send_scpi_cmd(':TASK:COMP:NEXT1 1')\n",
    "inst.send_scpi_cmd(':TASK:COMP:WRITE')\n",
    "inst.send_scpi_cmd(':SOUR:FUNC:MODE TASK')\n",
    "inst.send_scpi_cmd(':OUTP ON')"
   ],
   "id": "81fe66efe23c2751",
   "outputs": [
    {
     "data": {
      "text/plain": [
       "0"
      ]
     },
     "execution_count": 62,
     "metadata": {},
     "output_type": "execute_result"
    }
   ],
   "execution_count": 62
  },
  {
   "metadata": {
    "ExecuteTime": {
     "end_time": "2024-10-21T22:28:01.735184Z",
     "start_time": "2024-10-21T22:28:01.724841Z"
    }
   },
   "cell_type": "code",
   "source": [
    "# channel 2 DUC\n",
    "inst.send_scpi_cmd(':MODE DUC')\n",
    "inst.send_scpi_cmd(':IQM ONE')\n",
    "inst.send_scpi_query(':SOUR:NCO:CFR1 100E6')"
   ],
   "id": "f5773f55f9615102",
   "outputs": [
    {
     "data": {
      "text/plain": [
       "''"
      ]
     },
     "execution_count": 63,
     "metadata": {},
     "output_type": "execute_result"
    }
   ],
   "execution_count": 63
  },
  {
   "metadata": {
    "ExecuteTime": {
     "end_time": "2024-10-20T22:33:34.387251Z",
     "start_time": "2024-10-20T22:33:34.367343Z"
    }
   },
   "cell_type": "code",
   "source": [
    "\n",
    "\n",
    "\n",
    "\n",
    "\n",
    "\n",
    "\n",
    "\n",
    "\n"
   ],
   "id": "cd634d4044e364ba",
   "outputs": [
    {
     "data": {
      "text/plain": [
       "0"
      ]
     },
     "execution_count": 24,
     "metadata": {},
     "output_type": "execute_result"
    }
   ],
   "execution_count": 24
  },
  {
   "metadata": {
    "ExecuteTime": {
     "end_time": "2024-10-20T22:29:42.810900Z",
     "start_time": "2024-10-20T22:29:42.802562Z"
    }
   },
   "cell_type": "code",
   "source": "",
   "id": "12a954a84b938252",
   "outputs": [],
   "execution_count": null
  },
  {
   "metadata": {
    "ExecuteTime": {
     "end_time": "2024-10-20T22:29:44.116863Z",
     "start_time": "2024-10-20T22:29:44.109363Z"
    }
   },
   "cell_type": "code",
   "source": "",
   "id": "87df5ecf6ed9a0aa",
   "outputs": [],
   "execution_count": null
  },
  {
   "metadata": {},
   "cell_type": "code",
   "outputs": [],
   "execution_count": null,
   "source": "",
   "id": "4fe985cdc098dbd1"
  }
 ],
 "metadata": {
  "kernelspec": {
   "display_name": "Python 3",
   "language": "python",
   "name": "python3"
  },
  "language_info": {
   "codemirror_mode": {
    "name": "ipython",
    "version": 2
   },
   "file_extension": ".py",
   "mimetype": "text/x-python",
   "name": "python",
   "nbconvert_exporter": "python",
   "pygments_lexer": "ipython2",
   "version": "2.7.6"
  }
 },
 "nbformat": 4,
 "nbformat_minor": 5
}
