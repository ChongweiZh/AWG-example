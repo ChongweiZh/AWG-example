{
 "cells": [
  {
   "cell_type": "code",
   "id": "initial_id",
   "metadata": {
    "collapsed": true,
    "ExecuteTime": {
     "end_time": "2024-11-14T00:42:12.957608Z",
     "start_time": "2024-11-14T00:42:12.330900Z"
    }
   },
   "source": [
    "import os \n",
    "import sys \n",
    "from SourceFiles.teproteus import TEProteusAdmin as TepAdmin\n",
    "import matplotlib.pyplot as plt\n",
    "import numpy as np"
   ],
   "outputs": [],
   "execution_count": 1
  },
  {
   "metadata": {
    "ExecuteTime": {
     "end_time": "2024-11-14T00:42:23.731491Z",
     "start_time": "2024-11-14T00:42:17.112233Z"
    }
   },
   "cell_type": "code",
   "source": [
    "# connect and initialize\n",
    "admin = TepAdmin() #required to control PXI module\n",
    "sid = 8 #PXI slot WDS found\n",
    "inst = admin.open_instrument(slot_id=sid)\n",
    "resp = inst.send_scpi_query(\"*IDN?\")\n",
    "print('connected to: ' + resp) # Print *IDN\n",
    "inst.send_scpi_cmd('*CLS; *RST')"
   ],
   "id": "abb392b6ba7e623e",
   "outputs": [
    {
     "name": "stdout",
     "output_type": "stream",
     "text": [
      "Load TEProteus.dll from : C:\\Windows\\system32\\TEProteus.dll\n",
      "connected to: Tabor Electronics,P9484M,000002243278,1.237.0 --slot#: 8,\n"
     ]
    },
    {
     "data": {
      "text/plain": [
       "0"
      ]
     },
     "execution_count": 2,
     "metadata": {},
     "output_type": "execute_result"
    }
   ],
   "execution_count": 2
  },
  {
   "metadata": {
    "ExecuteTime": {
     "end_time": "2024-11-14T00:42:24.415775Z",
     "start_time": "2024-11-14T00:42:23.811835Z"
    }
   },
   "cell_type": "code",
   "source": [
    "# initialize DAC\n",
    "sampleRateDAC = 1E9\n",
    "inst.send_scpi_cmd(':FREQ:RAST {0}'.format(sampleRateDAC))"
   ],
   "id": "c35c5d774d1c0c55",
   "outputs": [
    {
     "data": {
      "text/plain": [
       "0"
      ]
     },
     "execution_count": 3,
     "metadata": {},
     "output_type": "execute_result"
    }
   ],
   "execution_count": 3
  },
  {
   "metadata": {
    "ExecuteTime": {
     "end_time": "2024-11-14T00:42:32.443653Z",
     "start_time": "2024-11-14T00:42:31.287279Z"
    }
   },
   "cell_type": "code",
   "source": [
    "# initialize EXT trigger (trigger for every channel need to be set independantly!)\n",
    "# TRIG:LEV property of a trigger\n",
    "# TRIG:STAT:SOUR:ENAB property of chan\n",
    "# TRIG:STAT property of a selected trigger to an selected channel\n",
    "\n",
    "inst.send_scpi_cmd(':INST:CHAN 1') \n",
    "inst.send_scpi_cmd(':TRIG:SOUR:ENAB TRG1')\n",
    "inst.send_scpi_cmd(':TRIG:SEL TRG1')\n",
    "inst.send_scpi_cmd(':TRIG:LEV 0.1')\n",
    "inst.send_scpi_cmd(':TRIG:STAT ON')\n",
    "\n",
    "inst.send_scpi_cmd(':INST:CHAN 2') \n",
    "inst.send_scpi_cmd(':TRIG:SOUR:ENAB TRG1')\n",
    "inst.send_scpi_cmd(':TRIG:STAT ON')\n",
    "\n"
   ],
   "id": "ce5027cae65b76f2",
   "outputs": [
    {
     "data": {
      "text/plain": [
       "0"
      ]
     },
     "execution_count": 4,
     "metadata": {},
     "output_type": "execute_result"
    }
   ],
   "execution_count": 4
  },
  {
   "metadata": {
    "ExecuteTime": {
     "end_time": "2024-11-14T00:42:35.490567Z",
     "start_time": "2024-11-14T00:42:35.475862Z"
    }
   },
   "cell_type": "code",
   "source": [
    "# create waveform\n",
    "amp = 1  \n",
    "cycles = 10\n",
    "segLen = 1024 # must be a multiple of 64\n",
    "time = np.linspace(0, segLen-1, segLen)\n",
    "w = 2 * np.pi \n",
    "dacWave = amp * np.sin(w*time*cycles/segLen) \n",
    "max_dac=65535 # Max Dac\n",
    "half_dac=max_dac/2 # DC Level\n",
    "data_type = np.uint16 # DAC data type \n",
    "dacWave = ((dacWave) + 1.0) * half_dac  \n",
    "dacWave = dacWave.astype(data_type) "
   ],
   "id": "faefda7e3d99f4d7",
   "outputs": [],
   "execution_count": 5
  },
  {
   "metadata": {
    "ExecuteTime": {
     "end_time": "2024-11-14T00:42:41.875430Z",
     "start_time": "2024-11-14T00:42:41.232136Z"
    }
   },
   "cell_type": "code",
   "source": [
    "# select CH1\n",
    "ch = 1 # everything after relates to CH 1 \n",
    "segnum = 1\n",
    "inst.send_scpi_cmd(':INST:CHAN {0}'.format(ch)) \n",
    "inst.send_scpi_cmd(':TRAC:DEL:ALL')\n",
    "inst.send_scpi_cmd(':TRAC:DEF {0}, {1}'.format(segnum, len(dacWave)))\n",
    "inst.send_scpi_cmd(':TRAC:SEL {0}'.format(segnum))\n",
    "inst.write_binary_data(':TRAC:DATA', dacWave) # write, and wait while *OPC completes\n",
    "\n",
    "inst.send_scpi_cmd(':TASK:COMP:LENG 1')\n",
    "inst.send_scpi_cmd(':TASK:COMP:SEL 1')\n",
    "inst.send_scpi_cmd(':TASK:COMP:SEGM 1')\n",
    "\n",
    "inst.send_scpi_cmd(':TASK:COMP:ENAB TRG1')\n",
    "inst.send_scpi_cmd(':TASK:COMP:NEXT1 1')\n",
    "inst.send_scpi_cmd(':TASK:COMP:WRITE')\n",
    "inst.send_scpi_cmd(':SOUR:FUNC:MODE TASK')\n",
    "inst.send_scpi_cmd(':OUTP ON')"
   ],
   "id": "1fdbfc02a2a05cd",
   "outputs": [
    {
     "data": {
      "text/plain": [
       "0"
      ]
     },
     "execution_count": 6,
     "metadata": {},
     "output_type": "execute_result"
    }
   ],
   "execution_count": 6
  },
  {
   "metadata": {
    "ExecuteTime": {
     "end_time": "2024-11-14T00:42:44.778225Z",
     "start_time": "2024-11-14T00:42:44.190633Z"
    }
   },
   "cell_type": "code",
   "source": [
    "ch = 2 # everything after relates to CH 2\n",
    "inst.send_scpi_cmd(':INST:CHAN {0}'.format(ch)) \n",
    "inst.send_scpi_cmd(':TASK:COMP:LENG 1')\n",
    "inst.send_scpi_cmd(':TASK:COMP:SEL 1')\n",
    "inst.send_scpi_cmd(':TASK:COMP:SEGM 1')\n",
    "inst.send_scpi_cmd(':TASK:COMP:ENAB TRG1')\n",
    "inst.send_scpi_cmd(':TASK:COMP:NEXT1 1')\n",
    "inst.send_scpi_cmd(':TASK:COMP:WRITE')\n",
    "inst.send_scpi_cmd(':SOUR:FUNC:MODE TASK')\n",
    "inst.send_scpi_cmd(':OUTP ON')"
   ],
   "id": "81fe66efe23c2751",
   "outputs": [
    {
     "data": {
      "text/plain": [
       "0"
      ]
     },
     "execution_count": 7,
     "metadata": {},
     "output_type": "execute_result"
    }
   ],
   "execution_count": 7
  },
  {
   "metadata": {
    "ExecuteTime": {
     "end_time": "2024-10-20T22:33:34.387251Z",
     "start_time": "2024-10-20T22:33:34.367343Z"
    }
   },
   "cell_type": "code",
   "source": [
    "\n",
    "\n",
    "\n",
    "\n",
    "\n",
    "\n",
    "\n",
    "\n",
    "\n"
   ],
   "id": "cd634d4044e364ba",
   "outputs": [
    {
     "data": {
      "text/plain": [
       "0"
      ]
     },
     "execution_count": 24,
     "metadata": {},
     "output_type": "execute_result"
    }
   ],
   "execution_count": 24
  },
  {
   "metadata": {
    "ExecuteTime": {
     "end_time": "2024-10-20T22:29:42.810900Z",
     "start_time": "2024-10-20T22:29:42.802562Z"
    }
   },
   "cell_type": "code",
   "source": "",
   "id": "12a954a84b938252",
   "outputs": [],
   "execution_count": null
  },
  {
   "metadata": {
    "ExecuteTime": {
     "end_time": "2024-10-20T22:29:44.116863Z",
     "start_time": "2024-10-20T22:29:44.109363Z"
    }
   },
   "cell_type": "code",
   "source": "",
   "id": "87df5ecf6ed9a0aa",
   "outputs": [],
   "execution_count": null
  },
  {
   "metadata": {},
   "cell_type": "code",
   "outputs": [],
   "execution_count": null,
   "source": "",
   "id": "4fe985cdc098dbd1"
  }
 ],
 "metadata": {
  "kernelspec": {
   "display_name": "Python 3",
   "language": "python",
   "name": "python3"
  },
  "language_info": {
   "codemirror_mode": {
    "name": "ipython",
    "version": 2
   },
   "file_extension": ".py",
   "mimetype": "text/x-python",
   "name": "python",
   "nbconvert_exporter": "python",
   "pygments_lexer": "ipython2",
   "version": "2.7.6"
  }
 },
 "nbformat": 4,
 "nbformat_minor": 5
}
