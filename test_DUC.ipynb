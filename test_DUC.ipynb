{
 "cells": [
  {
   "cell_type": "code",
   "id": "initial_id",
   "metadata": {
    "collapsed": true,
    "ExecuteTime": {
     "end_time": "2024-10-22T17:13:22.754242Z",
     "start_time": "2024-10-22T17:13:22.745848Z"
    }
   },
   "source": [
    "from SourceFiles.teproteus import TEProteusAdmin as TepAdmin\n",
    "import matplotlib.pyplot as plt\n",
    "import numpy as np"
   ],
   "outputs": [],
   "execution_count": 146
  },
  {
   "metadata": {
    "ExecuteTime": {
     "end_time": "2024-10-22T17:13:30.298534Z",
     "start_time": "2024-10-22T17:13:23.647645Z"
    }
   },
   "cell_type": "code",
   "source": [
    "# connect and initialize\n",
    "admin = TepAdmin() #required to control PXI module\n",
    "sid = 8 #PXI slot WDS found\n",
    "inst = admin.open_instrument(slot_id=sid)\n",
    "resp = inst.send_scpi_query(\"*IDN?\")\n",
    "print('connected to: ' + resp) # Print *IDN\n",
    "inst.send_scpi_cmd('*CLS; *RST')"
   ],
   "id": "abb392b6ba7e623e",
   "outputs": [
    {
     "name": "stdout",
     "output_type": "stream",
     "text": [
      "Load TEProteus.dll from : C:\\Windows\\system32\\TEProteus.dll\n",
      "connected to: slot#: 8,\n"
     ]
    },
    {
     "data": {
      "text/plain": [
       "0"
      ]
     },
     "execution_count": 147,
     "metadata": {},
     "output_type": "execute_result"
    }
   ],
   "execution_count": 147
  },
  {
   "metadata": {
    "ExecuteTime": {
     "end_time": "2024-10-22T17:13:31.566358Z",
     "start_time": "2024-10-22T17:13:30.416888Z"
    }
   },
   "cell_type": "code",
   "source": [
    "# initialize DAC\n",
    "sampleRateDAC = 1E9\n",
    "inst.send_scpi_cmd(':FREQ:RAST {0}'.format(sampleRateDAC))\n",
    "inst.send_scpi_cmd(':SOUR:INT X2')"
   ],
   "id": "c35c5d774d1c0c55",
   "outputs": [
    {
     "data": {
      "text/plain": [
       "0"
      ]
     },
     "execution_count": 148,
     "metadata": {},
     "output_type": "execute_result"
    }
   ],
   "execution_count": 148
  },
  {
   "metadata": {
    "ExecuteTime": {
     "end_time": "2024-10-22T17:13:32.248618Z",
     "start_time": "2024-10-22T17:13:31.656967Z"
    }
   },
   "cell_type": "code",
   "source": [
    "inst.send_scpi_cmd(':INST:CHAN {0}'.format(1)) \n",
    "inst.send_scpi_cmd(':MODE DUC')\n",
    "inst.send_scpi_cmd(':IQM ONE')\n",
    "inst.send_scpi_query(':SOUR:NCO:PHAS1 0')\n",
    "inst.send_scpi_query(':SOUR:NCO:CFR1 1E6')"
   ],
   "id": "2c9a433987b45566",
   "outputs": [
    {
     "data": {
      "text/plain": [
       "''"
      ]
     },
     "execution_count": 149,
     "metadata": {},
     "output_type": "execute_result"
    }
   ],
   "execution_count": 149
  },
  {
   "metadata": {
    "ExecuteTime": {
     "end_time": "2024-10-22T17:13:50.359828Z",
     "start_time": "2024-10-22T17:13:50.347123Z"
    }
   },
   "cell_type": "code",
   "source": [
    "# create waveform\n",
    "max_dac=65535 # Max Dac\n",
    "half_dac=max_dac/2 # DC Lev\n",
    "data_type = np.uint16 # DAC data type\n",
    "\n",
    "segTime =6400\n",
    "\n",
    "\n",
    " \n",
    "\n",
    " \n",
    "\n",
    "dacWaveOn_I = np.ones(segTime)\n",
    "\n",
    "dacWaveOn_I = dacWaveOn_I * max_dac\n",
    "\n",
    "dacWaveOn_I = dacWaveOn_I.astype(data_type)\n",
    "\n",
    "\n",
    "\n",
    "dacWaveOn_Q = dacWaveOn_I\n",
    "\n",
    "# reshapes for IQIQIQIQIQ....\n",
    "\n",
    "dacWaveOn_IQ = np.array([val for pair in zip(dacWaveOn_I, dacWaveOn_Q) for val in pair])"
   ],
   "id": "faefda7e3d99f4d7",
   "outputs": [],
   "execution_count": 150
  },
  {
   "metadata": {
    "ExecuteTime": {
     "end_time": "2024-10-22T17:14:13.320848Z",
     "start_time": "2024-10-22T17:14:12.703915Z"
    }
   },
   "cell_type": "code",
   "source": [
    "# select CH1\n",
    "\n",
    "ch = 1 # everything after relates to CH 1 \n",
    "segnum = 1\n",
    "inst.send_scpi_cmd(':INST:CHAN {0}'.format(ch)) \n",
    "inst.send_scpi_cmd(':TRAC:DEL:ALL')\n",
    "inst.send_scpi_cmd(':TRAC:DEF {0}, {1}'.format(segnum, len(dacWaveOn_IQ)))\n",
    "inst.send_scpi_cmd(':TRAC:SEL {0}'.format(segnum))\n",
    "inst.write_binary_data(':TRAC:DATA', dacWaveOn_IQ) # write, and wait while *OPC completes\n",
    "\n",
    "inst.send_scpi_cmd(':TASK:ZERO:ALL')\n",
    "inst.send_scpi_cmd(':TASK:COMP:LENG 1')\n",
    "inst.send_scpi_cmd(':TASK:COMP:SEL 1')\n",
    "inst.send_scpi_cmd(':TASK:COMP:SEGM 1')\n",
    "\n",
    "\n",
    "inst.send_scpi_cmd(':TASK:COMP:ENAB CPU')\n",
    "inst.send_scpi_cmd(':TASK:COMP:NEXT1 1')\n",
    "inst.send_scpi_cmd(':TASK:COMP:WRITE')\n",
    "inst.send_scpi_cmd(':SOUR:FUNC:MODE TASK')\n",
    "inst.send_scpi_cmd(':OUTP ON')"
   ],
   "id": "1fdbfc02a2a05cd",
   "outputs": [
    {
     "data": {
      "text/plain": [
       "0"
      ]
     },
     "execution_count": 151,
     "metadata": {},
     "output_type": "execute_result"
    }
   ],
   "execution_count": 151
  },
  {
   "metadata": {
    "ExecuteTime": {
     "end_time": "2024-10-22T17:14:20.092383Z",
     "start_time": "2024-10-22T17:14:20.077182Z"
    }
   },
   "cell_type": "code",
   "source": [
    "\n",
    "inst.send_scpi_cmd('*TRG')\n",
    "\n",
    "\n",
    "# inst.send_scpi_cmd(':TRIG:SEL TRG1')\n",
    "# inst.send_scpi_cmd(':TRIG:STAT ON')\n",
    "# inst.send_scpi_cmd(':TRIG:LEV 1.0')\n",
    "\n",
    "\n",
    "\n",
    "\n",
    "\n",
    "\n",
    "\n"
   ],
   "id": "cd634d4044e364ba",
   "outputs": [
    {
     "data": {
      "text/plain": [
       "0"
      ]
     },
     "execution_count": 152,
     "metadata": {},
     "output_type": "execute_result"
    }
   ],
   "execution_count": 152
  },
  {
   "metadata": {
    "ExecuteTime": {
     "end_time": "2024-10-20T22:29:42.810900Z",
     "start_time": "2024-10-20T22:29:42.802562Z"
    }
   },
   "cell_type": "code",
   "source": "",
   "id": "12a954a84b938252",
   "outputs": [],
   "execution_count": null
  },
  {
   "metadata": {
    "ExecuteTime": {
     "end_time": "2024-10-20T22:29:44.116863Z",
     "start_time": "2024-10-20T22:29:44.109363Z"
    }
   },
   "cell_type": "code",
   "source": "",
   "id": "87df5ecf6ed9a0aa",
   "outputs": [],
   "execution_count": null
  },
  {
   "metadata": {},
   "cell_type": "code",
   "outputs": [],
   "execution_count": null,
   "source": "",
   "id": "4fe985cdc098dbd1"
  }
 ],
 "metadata": {
  "kernelspec": {
   "display_name": "Python 3",
   "language": "python",
   "name": "python3"
  },
  "language_info": {
   "codemirror_mode": {
    "name": "ipython",
    "version": 2
   },
   "file_extension": ".py",
   "mimetype": "text/x-python",
   "name": "python",
   "nbconvert_exporter": "python",
   "pygments_lexer": "ipython2",
   "version": "2.7.6"
  }
 },
 "nbformat": 4,
 "nbformat_minor": 5
}
